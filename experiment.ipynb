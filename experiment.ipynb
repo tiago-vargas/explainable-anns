{
 "cells": [
  {
   "attachments": {},
   "cell_type": "markdown",
   "metadata": {},
   "source": [
    "# Experiments"
   ]
  },
  {
   "cell_type": "code",
   "execution_count": 31,
   "metadata": {},
   "outputs": [],
   "source": [
    "import pandas as pd\n",
    "import tensorflow as tf\n",
    "\n",
    "from milp import codify_network\n",
    "from teste import get_minimal_explanation\n",
    "\n",
    "# For type annotations\n",
    "import numpy as np"
   ]
  },
  {
   "attachments": {},
   "cell_type": "markdown",
   "metadata": {},
   "source": [
    "## Glass"
   ]
  },
  {
   "cell_type": "code",
   "execution_count": 32,
   "metadata": {},
   "outputs": [],
   "source": [
    "dataset_name = 'glass'\n",
    "\n",
    "training_data = pd.read_csv(f'datasets/{dataset_name}/train.csv')\n",
    "testing_data = pd.read_csv(f'datasets/{dataset_name}/test.csv')\n",
    "\n",
    "dataframe = pd.concat([training_data, testing_data])\n",
    "\n",
    "keras_model = tf.keras.models.load_model(f'datasets/{dataset_name}/model_2layers_{dataset_name}.h5')\n",
    "\n",
    "data = dataframe.to_numpy()\n",
    "n_classes = dataframe['target'].nunique()"
   ]
  },
  {
   "cell_type": "code",
   "execution_count": 33,
   "metadata": {},
   "outputs": [],
   "source": [
    "mp_model, output_bounds = codify_network(keras_model, dataframe, 'fischetti', relax_constraints=False)"
   ]
  },
  {
   "attachments": {},
   "cell_type": "markdown",
   "metadata": {},
   "source": [
    "TODO: Get random `i`"
   ]
  },
  {
   "cell_type": "code",
   "execution_count": 34,
   "metadata": {},
   "outputs": [
    {
     "name": "stdout",
     "output_type": "stream",
     "text": [
      "i = 138\n",
      "1/1 [==============================] - 0s 57ms/step\n",
      "1/1 [==============================] - 0s 17ms/step\n",
      "Predictions: (ndarray[ndarray[<class 'numpy.float32'>]]) 0.0007575714\n",
      "Network output: (<class 'numpy.int64'>) 1\n"
     ]
    }
   ],
   "source": [
    "# i = 134 is also a nice value to study\n",
    "i = 138\n",
    "print('i =', i)\n",
    "network_input = data[i, :-1]\n",
    "network_input = tf.reshape(tf.constant(network_input), [1, -1])\n",
    "network_output = keras_model.predict(tf.constant(network_input))[0]\n",
    "network_output = tf.argmax(network_output)\n",
    "\n",
    "predictions = keras_model.predict(tf.constant(network_input))[0, 0]\n",
    "\n",
    "print(f'Predictions: (ndarray[ndarray[{type(predictions)}]])', predictions)\n",
    "classification: np.int64 = network_output.numpy()\n",
    "print(f'Network output: ({type(classification)})', classification)"
   ]
  },
  {
   "cell_type": "code",
   "execution_count": 35,
   "metadata": {},
   "outputs": [
    {
     "data": {
      "text/plain": [
       "[docplex.mp.LinearConstraint[input1](x_0,EQ,2.967691214515491),\n",
       " docplex.mp.LinearConstraint[input4](x_3,EQ,-1.408120229258977),\n",
       " docplex.mp.LinearConstraint[input6](x_5,EQ,-0.790702170757714),\n",
       " docplex.mp.LinearConstraint[input7](x_6,EQ,4.24127975754059),\n",
       " docplex.mp.LinearConstraint[input8](x_7,EQ,-0.3615292659832898),\n",
       " docplex.mp.LinearConstraint[input9](x_8,EQ,-0.6037614142464092)]"
      ]
     },
     "execution_count": 35,
     "metadata": {},
     "output_type": "execute_result"
    }
   ],
   "source": [
    "mdl_aux = mp_model.clone()\n",
    "\n",
    "minimal_explanation = get_minimal_explanation(mdl_aux, network_input, network_output, n_classes, 'fischetti', output_bounds)\n",
    "minimal_explanation"
   ]
  },
  {
   "attachments": {},
   "cell_type": "markdown",
   "metadata": {},
   "source": [
    "### Improving the Explanation"
   ]
  },
  {
   "cell_type": "code",
   "execution_count": 36,
   "metadata": {},
   "outputs": [],
   "source": [
    "import docplex"
   ]
  },
  {
   "cell_type": "code",
   "execution_count": 37,
   "metadata": {},
   "outputs": [],
   "source": [
    "minimal_model = mdl_aux\n",
    "testing_model = minimal_model.clone()"
   ]
  },
  {
   "cell_type": "code",
   "execution_count": 38,
   "metadata": {},
   "outputs": [
    {
     "data": {
      "text/plain": [
       "[docplex.mp.LinearConstraint[input1](x_0,EQ,2.967691214515491),\n",
       " docplex.mp.LinearConstraint[input4](x_3,EQ,-1.408120229258977),\n",
       " docplex.mp.LinearConstraint[input6](x_5,EQ,-0.790702170757714),\n",
       " docplex.mp.LinearConstraint[input7](x_6,EQ,4.24127975754059),\n",
       " docplex.mp.LinearConstraint[input8](x_7,EQ,-0.3615292659832898),\n",
       " docplex.mp.LinearConstraint[input9](x_8,EQ,-0.6037614142464092)]"
      ]
     },
     "execution_count": 38,
     "metadata": {},
     "output_type": "execute_result"
    }
   ],
   "source": [
    "linear_constraints = testing_model.find_matching_linear_constraints('input')\n",
    "linear_constraints"
   ]
  },
  {
   "cell_type": "code",
   "execution_count": 39,
   "metadata": {},
   "outputs": [],
   "source": [
    "linear_constraints = testing_model.find_matching_linear_constraints('input')\n",
    "\n",
    "for constraint in linear_constraints:\n",
    "\ttesting_model.remove_constraint(constraint)\n",
    "\ttesting_model.add_constraint(constraint.lhs <= constraint.rhs.clone(), 'input LE')\n",
    "\ttesting_model.add_constraint(constraint.lhs >= constraint.rhs.clone(), 'input GE')"
   ]
  },
  {
   "cell_type": "code",
   "execution_count": 40,
   "metadata": {},
   "outputs": [
    {
     "data": {
      "text/plain": [
       "[docplex.mp.LinearConstraint[input LE](x_0,LE,2.967691214515491),\n",
       " docplex.mp.LinearConstraint[input GE](x_0,GE,2.967691214515491),\n",
       " docplex.mp.LinearConstraint[input LE](x_3,LE,-1.408120229258977),\n",
       " docplex.mp.LinearConstraint[input GE](x_3,GE,-1.408120229258977),\n",
       " docplex.mp.LinearConstraint[input LE](x_5,LE,-0.790702170757714),\n",
       " docplex.mp.LinearConstraint[input GE](x_5,GE,-0.790702170757714),\n",
       " docplex.mp.LinearConstraint[input LE](x_6,LE,4.24127975754059),\n",
       " docplex.mp.LinearConstraint[input GE](x_6,GE,4.24127975754059),\n",
       " docplex.mp.LinearConstraint[input LE](x_7,LE,-0.3615292659832898),\n",
       " docplex.mp.LinearConstraint[input GE](x_7,GE,-0.3615292659832898),\n",
       " docplex.mp.LinearConstraint[input LE](x_8,LE,-0.6037614142464092),\n",
       " docplex.mp.LinearConstraint[input GE](x_8,GE,-0.6037614142464092)]"
      ]
     },
     "execution_count": 40,
     "metadata": {},
     "output_type": "execute_result"
    }
   ],
   "source": [
    "linear_constraints = testing_model.find_matching_linear_constraints('input')\n",
    "linear_constraints"
   ]
  },
  {
   "cell_type": "code",
   "execution_count": 41,
   "metadata": {},
   "outputs": [],
   "source": [
    "def log_and_improve_explanation(minimal_explanation: list, epsilon: float):\n",
    "\tfor constraint in minimal_explanation:\n",
    "\t\ttesting_model.solve()\n",
    "\t\tprint('Initial constraint:' + '\\t', constraint)\n",
    "\n",
    "\t\tvariable = constraint.lhs\n",
    "\t\twhile testing_model.solution is None:\n",
    "\t\t\tif constraint.sense == docplex.mp.constants.ComparisonType.LE:\n",
    "\t\t\t\tif constraint.rhs.constant <= variable.ub:\n",
    "\t\t\t\t\tconstraint.rhs += epsilon\n",
    "\t\t\t\telse:\n",
    "\t\t\t\t\tbreak\n",
    "\t\t\telif constraint.sense == docplex.mp.constants.ComparisonType.GE:\n",
    "\t\t\t\tif constraint.rhs.constant >= variable.lb:\n",
    "\t\t\t\t\tconstraint.rhs -= epsilon\n",
    "\t\t\t\telse:\n",
    "\t\t\t\t\tbreak\n",
    "\t\t\telse:\n",
    "\t\t\t\traise Exception('Constraint sense was neither LE nor GE')\n",
    "\n",
    "\t\t\ttesting_model.solve()\n",
    "\n",
    "\t\t# Undo last operation\n",
    "\t\tif constraint.sense == docplex.mp.constants.ComparisonType.LE:\n",
    "\t\t\tconstraint.rhs -= epsilon\n",
    "\t\telif constraint.sense == docplex.mp.constants.ComparisonType.GE:\n",
    "\t\t\tconstraint.rhs += epsilon\n",
    "\n",
    "\t\tprint('Final constraint:' + '\\t', constraint)\n",
    "\t\tprint()"
   ]
  },
  {
   "cell_type": "code",
   "execution_count": 42,
   "metadata": {},
   "outputs": [
    {
     "name": "stdout",
     "output_type": "stream",
     "text": [
      "Initial constraint:\t input LE: x_0 <= 2.967691214515491\n",
      "Final constraint:\t input LE: x_0 <= 5.127691214515445\n",
      "\n",
      "Initial constraint:\t input GE: x_0 >= 2.967691214515491\n",
      "Final constraint:\t input GE: x_0 >= 1.427691214515511\n",
      "\n",
      "Initial constraint:\t input LE: x_3 <= -1.408120229258977\n",
      "Final constraint:\t input LE: x_3 <= -1.408120229258977\n",
      "\n",
      "Initial constraint:\t input GE: x_3 >= -1.408120229258977\n",
      "Final constraint:\t input GE: x_3 >= -1.518120229258977\n",
      "\n",
      "Initial constraint:\t input LE: x_5 <= -0.790702170757714\n",
      "Final constraint:\t input LE: x_5 <= -0.790702170757714\n",
      "\n",
      "Initial constraint:\t input GE: x_5 >= -0.790702170757714\n",
      "Final constraint:\t input GE: x_5 >= -0.790702170757714\n",
      "\n",
      "Initial constraint:\t input LE: x_6 <= 4.24127975754059\n",
      "Final constraint:\t input LE: x_6 <= 4.24127975754059\n",
      "\n",
      "Initial constraint:\t input GE: x_6 >= 4.24127975754059\n",
      "Final constraint:\t input GE: x_6 >= 4.24127975754059\n",
      "\n",
      "Initial constraint:\t input LE: x_7 <= -0.3615292659832898\n",
      "Final constraint:\t input LE: x_7 <= -0.3615292659832898\n",
      "\n",
      "Initial constraint:\t input GE: x_7 >= -0.3615292659832898\n",
      "Final constraint:\t input GE: x_7 >= -0.3615292659832898\n",
      "\n",
      "Initial constraint:\t input LE: x_8 <= -0.6037614142464092\n",
      "Final constraint:\t input LE: x_8 <= -0.6037614142464092\n",
      "\n",
      "Initial constraint:\t input GE: x_8 >= -0.6037614142464092\n",
      "Final constraint:\t input GE: x_8 >= -0.6037614142464092\n",
      "\n"
     ]
    }
   ],
   "source": [
    "log_and_improve_explanation(linear_constraints, epsilon=0.01)"
   ]
  },
  {
   "cell_type": "code",
   "execution_count": 43,
   "metadata": {},
   "outputs": [
    {
     "data": {
      "text/plain": [
       "[docplex.mp.LinearConstraint[input LE](x_0,LE,5.127691214515445),\n",
       " docplex.mp.LinearConstraint[input GE](x_0,GE,1.427691214515511),\n",
       " docplex.mp.LinearConstraint[input LE](x_3,LE,-1.408120229258977),\n",
       " docplex.mp.LinearConstraint[input GE](x_3,GE,-1.518120229258977),\n",
       " docplex.mp.LinearConstraint[input LE](x_5,LE,-0.790702170757714),\n",
       " docplex.mp.LinearConstraint[input GE](x_5,GE,-0.790702170757714),\n",
       " docplex.mp.LinearConstraint[input LE](x_6,LE,4.24127975754059),\n",
       " docplex.mp.LinearConstraint[input GE](x_6,GE,4.24127975754059),\n",
       " docplex.mp.LinearConstraint[input LE](x_7,LE,-0.3615292659832898),\n",
       " docplex.mp.LinearConstraint[input GE](x_7,GE,-0.3615292659832898),\n",
       " docplex.mp.LinearConstraint[input LE](x_8,LE,-0.6037614142464092),\n",
       " docplex.mp.LinearConstraint[input GE](x_8,GE,-0.6037614142464092)]"
      ]
     },
     "execution_count": 43,
     "metadata": {},
     "output_type": "execute_result"
    }
   ],
   "source": [
    "linear_constraints = testing_model.find_matching_linear_constraints('input')\n",
    "linear_constraints"
   ]
  },
  {
   "cell_type": "code",
   "execution_count": 44,
   "metadata": {},
   "outputs": [],
   "source": [
    "number_of_inputs = len(dataframe.columns.drop('target'))\n",
    "for i in range(number_of_inputs):\n",
    "\tconstraints_of_x_i = filter(lambda x: x.lhs.name == f'x_{i}', linear_constraints)\n",
    "\tconstraints = [c for c in constraints_of_x_i]\n",
    "\n",
    "\tif len(constraints) == 2:\n",
    "\t\tif constraints[0].rhs.constant == constraints[1].rhs.constant:\n",
    "\t\t\ttesting_model.remove_constraints(constraints)\n",
    "\t\t\ttesting_model.add_constraint(constraints[0].lhs == constraints[0].rhs, 'input')"
   ]
  },
  {
   "cell_type": "code",
   "execution_count": 45,
   "metadata": {},
   "outputs": [
    {
     "data": {
      "text/plain": [
       "[docplex.mp.LinearConstraint[input LE](x_0,LE,5.127691214515445),\n",
       " docplex.mp.LinearConstraint[input GE](x_0,GE,1.427691214515511),\n",
       " docplex.mp.LinearConstraint[input LE](x_3,LE,-1.408120229258977),\n",
       " docplex.mp.LinearConstraint[input GE](x_3,GE,-1.518120229258977),\n",
       " docplex.mp.LinearConstraint[input](x_5,EQ,-0.790702170757714),\n",
       " docplex.mp.LinearConstraint[input](x_6,EQ,4.24127975754059),\n",
       " docplex.mp.LinearConstraint[input](x_7,EQ,-0.3615292659832898),\n",
       " docplex.mp.LinearConstraint[input](x_8,EQ,-0.6037614142464092)]"
      ]
     },
     "execution_count": 45,
     "metadata": {},
     "output_type": "execute_result"
    }
   ],
   "source": [
    "improved_explanation = testing_model.find_matching_linear_constraints('input')\n",
    "improved_explanation"
   ]
  },
  {
   "attachments": {},
   "cell_type": "markdown",
   "metadata": {},
   "source": [
    "### Pretty Printing"
   ]
  },
  {
   "cell_type": "code",
   "execution_count": 46,
   "metadata": {},
   "outputs": [],
   "source": [
    "def get_variable_index(variable: docplex.mp.dvar.Var) -> int:\n",
    "\tindex = variable.name.split('_')[1]\n",
    "\treturn int(index)"
   ]
  },
  {
   "cell_type": "code",
   "execution_count": 47,
   "metadata": {},
   "outputs": [],
   "source": [
    "def represent_constraint_with_feature_name(constraint: docplex.mp.constr.LinearConstraint):\n",
    "\tvariable = constraint.lhs\n",
    "\tindex = get_variable_index(variable)\n",
    "\tfeature_name = dataframe.columns[index]\n",
    "\treturn f'{feature_name} {constraint.sense.operator_symbol} {constraint.rhs}'"
   ]
  },
  {
   "cell_type": "code",
   "execution_count": 48,
   "metadata": {},
   "outputs": [],
   "source": [
    "def simple_print_explanation(explanation: list[docplex.mp.constr.LinearConstraint]):\n",
    "\tfor e in explanation:\n",
    "\t\tprint(represent_constraint_with_feature_name(e))"
   ]
  },
  {
   "cell_type": "code",
   "execution_count": 49,
   "metadata": {},
   "outputs": [],
   "source": [
    "def group_by_name(constraints: list[docplex.mp.constr.LinearConstraint]):\n",
    "\tgroup = {}\n",
    "\tfor c in constraints:\n",
    "\t\tvariable = c.lhs\n",
    "\t\ti = get_variable_index(variable)\n",
    "\t\tfeature_name = dataframe.columns[i]\n",
    "\t\tif feature_name not in group:\n",
    "\t\t\tgroup[feature_name] = []\n",
    "\t\tgroup[feature_name].append(c)\n",
    "\n",
    "\treturn group"
   ]
  },
  {
   "cell_type": "code",
   "execution_count": 50,
   "metadata": {},
   "outputs": [],
   "source": [
    "def get_interval_distance(constraints: list[docplex.mp.constr.LinearConstraint]):\n",
    "\tif len(constraints) == 1:\n",
    "\t\treturn 0\n",
    "\telif len(constraints) == 2:\n",
    "\t\tc_0 = constraints[0]\n",
    "\t\tc_1 = constraints[1]\n",
    "\t\tassert c_0.lhs.name == c_1.lhs.name\n",
    "\t\tdistance = c_0.rhs.constant - c_1.rhs.constant\n",
    "\t\treturn abs(distance)\n",
    "\telse:\n",
    "\t\tValueError()"
   ]
  },
  {
   "cell_type": "code",
   "execution_count": 51,
   "metadata": {},
   "outputs": [],
   "source": [
    "def pretty_print_explanation(explanation: list[docplex.mp.constr.LinearConstraint]):\n",
    "\tgroup = group_by_name(improved_explanation)\n",
    "\tfor (feature, constraints) in group.items():\n",
    "\t\tif len(constraints) == 2:\n",
    "\t\t\tc_0 = constraints[0]\n",
    "\t\t\tc_1 = constraints[1]\n",
    "\t\t\tle_operator = docplex.mp.constants.ComparisonType.LE\n",
    "\t\t\tif c_0.sense == le_operator:\n",
    "\t\t\t\tc_plus = c_0\n",
    "\t\t\t\tc_minus = c_1\n",
    "\t\t\telse:\n",
    "\t\t\t\tc_minus = c_0\n",
    "\t\t\t\tc_plus = c_1\n",
    "\t\t\tprint(f'{c_minus.rhs} {le_operator.operator_symbol} {feature} {le_operator.operator_symbol} {c_plus.rhs}')\n",
    "\t\telse:\n",
    "\t\t\tprint(represent_constraint_with_feature_name(constraints[0]))"
   ]
  },
  {
   "cell_type": "code",
   "execution_count": 52,
   "metadata": {},
   "outputs": [
    {
     "name": "stdout",
     "output_type": "stream",
     "text": [
      "1.427691214515511 <= RI <= 5.127691214515445\n",
      "-1.518120229258977 <= Al <= -1.408120229258977\n",
      "K == -0.790702170757714\n",
      "Ca == 4.24127975754059\n",
      "Ba == -0.3615292659832898\n",
      "Fe == -0.6037614142464092\n"
     ]
    }
   ],
   "source": [
    "pretty_print_explanation(improved_explanation)"
   ]
  },
  {
   "cell_type": "code",
   "execution_count": 53,
   "metadata": {},
   "outputs": [
    {
     "name": "stdout",
     "output_type": "stream",
     "text": [
      "3.699999999999934\n",
      "0.1100000000000001\n",
      "0\n",
      "0\n",
      "0\n",
      "0\n"
     ]
    }
   ],
   "source": [
    "group = group_by_name(improved_explanation)\n",
    "for feature in group:\n",
    "\tprint(get_interval_distance(group[feature]))"
   ]
  },
  {
   "cell_type": "code",
   "execution_count": 54,
   "metadata": {},
   "outputs": [
    {
     "data": {
      "text/plain": [
       "{'RI': [docplex.mp.LinearConstraint[input LE](x_0,LE,5.127691214515445),\n",
       "  docplex.mp.LinearConstraint[input GE](x_0,GE,1.427691214515511)],\n",
       " 'Al': [docplex.mp.LinearConstraint[input LE](x_3,LE,-1.408120229258977),\n",
       "  docplex.mp.LinearConstraint[input GE](x_3,GE,-1.518120229258977)],\n",
       " 'K': [docplex.mp.LinearConstraint[input](x_5,EQ,-0.790702170757714)],\n",
       " 'Ca': [docplex.mp.LinearConstraint[input](x_6,EQ,4.24127975754059)],\n",
       " 'Ba': [docplex.mp.LinearConstraint[input](x_7,EQ,-0.3615292659832898)],\n",
       " 'Fe': [docplex.mp.LinearConstraint[input](x_8,EQ,-0.6037614142464092)]}"
      ]
     },
     "execution_count": 54,
     "metadata": {},
     "output_type": "execute_result"
    }
   ],
   "source": [
    "group"
   ]
  },
  {
   "attachments": {},
   "cell_type": "markdown",
   "metadata": {},
   "source": [
    "### Metric-ify"
   ]
  },
  {
   "cell_type": "code",
   "execution_count": 55,
   "metadata": {},
   "outputs": [],
   "source": [
    "from math import sqrt\n",
    "\n",
    "def get_diameter(feature_ranges: list[float]) -> float:\n",
    "\tsquared_sum = 0\n",
    "\tfor range_ in feature_ranges:\n",
    "\t\tsquared_sum += range_ ** 2\n",
    "\treturn sqrt(squared_sum)"
   ]
  },
  {
   "cell_type": "code",
   "execution_count": 56,
   "metadata": {},
   "outputs": [
    {
     "data": {
      "text/plain": [
       "3.7016347739883133"
      ]
     },
     "execution_count": 56,
     "metadata": {},
     "output_type": "execute_result"
    }
   ],
   "source": [
    "ranges = [get_interval_distance(group[feature]) for feature in group_by_name(improved_explanation)]\n",
    "\n",
    "get_diameter(ranges)"
   ]
  },
  {
   "attachments": {},
   "cell_type": "markdown",
   "metadata": {},
   "source": [
    "### Anchor"
   ]
  },
  {
   "cell_type": "code",
   "execution_count": 57,
   "metadata": {},
   "outputs": [],
   "source": [
    "from anchor import utils"
   ]
  },
  {
   "cell_type": "code",
   "execution_count": 58,
   "metadata": {},
   "outputs": [],
   "source": [
    "d = utils.load_csv_dataset(\n",
    "\tdata=f'datasets/{dataset_name}/test.csv',\n",
    "\ttarget_idx=-1,\n",
    "\tfeature_names=['RI','Na','Mg','Al','Si','K','Ca','Ba','Fe','target'],\n",
    "\tskip_first=True\n",
    ")"
   ]
  },
  {
   "cell_type": "code",
   "execution_count": 59,
   "metadata": {},
   "outputs": [],
   "source": [
    "from anchor import anchor_tabular"
   ]
  },
  {
   "cell_type": "code",
   "execution_count": 60,
   "metadata": {},
   "outputs": [],
   "source": [
    "explainer = anchor_tabular.AnchorTabularExplainer(\n",
    "\td.class_names,\n",
    "\td.feature_names,\n",
    "\td.train,\n",
    "\td.categorical_names)"
   ]
  },
  {
   "cell_type": "code",
   "execution_count": 61,
   "metadata": {},
   "outputs": [],
   "source": [
    "predict_fn = lambda x: tf.argmax(keras_model.predict(x)[0]).numpy().reshape(1)"
   ]
  },
  {
   "cell_type": "code",
   "execution_count": 62,
   "metadata": {},
   "outputs": [
    {
     "name": "stdout",
     "output_type": "stream",
     "text": [
      "1/1 [==============================] - 0s 86ms/step\n",
      "1/1 [==============================] - 0s 22ms/step\n",
      "1/1 [==============================] - 0s 18ms/step\n",
      "1/1 [==============================] - 0s 23ms/step\n",
      "1/1 [==============================] - 0s 20ms/step\n",
      "1/1 [==============================] - 0s 20ms/step\n",
      "1/1 [==============================] - 0s 19ms/step\n",
      "1/1 [==============================] - 0s 22ms/step\n",
      "1/1 [==============================] - 0s 24ms/step\n",
      "1/1 [==============================] - 0s 23ms/step\n",
      "1/1 [==============================] - 0s 19ms/step\n",
      "1/1 [==============================] - 0s 20ms/step\n",
      "4/4 [==============================] - 1s 15ms/step\n",
      "4/4 [==============================] - 0s 2ms/step\n",
      "4/4 [==============================] - 0s 1ms/step\n",
      "4/4 [==============================] - 0s 2ms/step\n",
      "4/4 [==============================] - 0s 2ms/step\n",
      "4/4 [==============================] - 0s 2ms/step\n",
      "4/4 [==============================] - 0s 1ms/step\n",
      "4/4 [==============================] - 0s 2ms/step\n",
      "4/4 [==============================] - 0s 1ms/step\n",
      "4/4 [==============================] - 0s 11ms/step\n",
      "4/4 [==============================] - 0s 4ms/step\n",
      "4/4 [==============================] - 0s 2ms/step\n",
      "4/4 [==============================] - 0s 2ms/step\n",
      "4/4 [==============================] - 0s 3ms/step\n",
      "4/4 [==============================] - 0s 1ms/step\n",
      "4/4 [==============================] - 0s 4ms/step\n",
      "4/4 [==============================] - 0s 2ms/step\n",
      "4/4 [==============================] - 0s 987us/step\n",
      "4/4 [==============================] - 0s 2ms/step\n",
      "4/4 [==============================] - 0s 2ms/step\n",
      "4/4 [==============================] - 0s 936us/step\n",
      "4/4 [==============================] - 0s 1ms/step\n",
      "4/4 [==============================] - 0s 3ms/step\n",
      "4/4 [==============================] - 0s 948us/step\n",
      "4/4 [==============================] - 0s 1ms/step\n",
      "4/4 [==============================] - 0s 2ms/step\n",
      "4/4 [==============================] - 0s 1ms/step\n",
      "4/4 [==============================] - 0s 1ms/step\n",
      "4/4 [==============================] - 0s 939us/step\n",
      "4/4 [==============================] - 0s 952us/step\n",
      "4/4 [==============================] - 0s 2ms/step\n",
      "4/4 [==============================] - 0s 2ms/step\n",
      "4/4 [==============================] - 0s 1ms/step\n",
      "4/4 [==============================] - 0s 2ms/step\n",
      "4/4 [==============================] - 0s 986us/step\n",
      "4/4 [==============================] - 0s 1ms/step\n",
      "4/4 [==============================] - 0s 990us/step\n",
      "4/4 [==============================] - 0s 1ms/step\n",
      "4/4 [==============================] - 0s 985us/step\n",
      "4/4 [==============================] - 0s 2ms/step\n",
      "4/4 [==============================] - 0s 1ms/step\n",
      "4/4 [==============================] - 0s 1ms/step\n",
      "4/4 [==============================] - 0s 939us/step\n",
      "4/4 [==============================] - 0s 1ms/step\n",
      "4/4 [==============================] - 0s 1ms/step\n",
      "4/4 [==============================] - 0s 2ms/step\n",
      "4/4 [==============================] - 0s 1ms/step\n",
      "4/4 [==============================] - 0s 3ms/step\n",
      "4/4 [==============================] - 0s 2ms/step\n",
      "4/4 [==============================] - 0s 920us/step\n",
      "4/4 [==============================] - 0s 1ms/step\n",
      "4/4 [==============================] - 0s 3ms/step\n",
      "4/4 [==============================] - 0s 2ms/step\n",
      "4/4 [==============================] - 0s 1ms/step\n",
      "4/4 [==============================] - 0s 962us/step\n",
      "4/4 [==============================] - 0s 975us/step\n",
      "4/4 [==============================] - 0s 961us/step\n",
      "4/4 [==============================] - 0s 1ms/step\n",
      "4/4 [==============================] - 0s 1ms/step\n",
      "4/4 [==============================] - 0s 2ms/step\n",
      "4/4 [==============================] - 0s 2ms/step\n",
      "4/4 [==============================] - 0s 2ms/step\n",
      "4/4 [==============================] - 0s 1ms/step\n",
      "4/4 [==============================] - 0s 1ms/step\n",
      "4/4 [==============================] - 0s 1ms/step\n",
      "4/4 [==============================] - 0s 1ms/step\n",
      "4/4 [==============================] - 0s 1ms/step\n",
      "4/4 [==============================] - 0s 1ms/step\n",
      "4/4 [==============================] - 0s 2ms/step\n",
      "4/4 [==============================] - 0s 1ms/step\n",
      "4/4 [==============================] - 0s 1ms/step\n",
      "4/4 [==============================] - 0s 1ms/step\n",
      "4/4 [==============================] - 0s 1ms/step\n",
      "4/4 [==============================] - 0s 1ms/step\n",
      "4/4 [==============================] - 0s 1ms/step\n",
      "4/4 [==============================] - 0s 1ms/step\n",
      "4/4 [==============================] - 0s 1ms/step\n",
      "4/4 [==============================] - 0s 2ms/step\n",
      "4/4 [==============================] - 0s 3ms/step\n",
      "4/4 [==============================] - 0s 2ms/step\n",
      "4/4 [==============================] - 0s 1ms/step\n",
      "4/4 [==============================] - 0s 2ms/step\n",
      "1/1 [==============================] - 0s 26ms/step\n",
      "1/1 [==============================] - 0s 18ms/step\n",
      "4/4 [==============================] - 0s 3ms/step\n",
      "4/4 [==============================] - 0s 3ms/step\n",
      "4/4 [==============================] - 0s 1ms/step\n",
      "4/4 [==============================] - 0s 1ms/step\n",
      "4/4 [==============================] - 0s 2ms/step\n",
      "4/4 [==============================] - 0s 2ms/step\n",
      "4/4 [==============================] - 0s 960us/step\n",
      "4/4 [==============================] - 0s 1ms/step\n",
      "4/4 [==============================] - 0s 1ms/step\n",
      "4/4 [==============================] - 0s 890us/step\n",
      "4/4 [==============================] - 0s 932us/step\n",
      "4/4 [==============================] - 0s 970us/step\n",
      "4/4 [==============================] - 0s 1ms/step\n",
      "4/4 [==============================] - 0s 982us/step\n",
      "4/4 [==============================] - 0s 2ms/step\n",
      "4/4 [==============================] - 0s 4ms/step\n",
      "4/4 [==============================] - 0s 2ms/step\n",
      "4/4 [==============================] - 0s 1ms/step\n",
      "4/4 [==============================] - 0s 3ms/step\n",
      "4/4 [==============================] - 0s 978us/step\n",
      "4/4 [==============================] - 0s 923us/step\n",
      "4/4 [==============================] - 0s 1ms/step\n",
      "4/4 [==============================] - 0s 3ms/step\n",
      "4/4 [==============================] - 0s 9ms/step\n",
      "4/4 [==============================] - 0s 3ms/step\n",
      "4/4 [==============================] - 0s 2ms/step\n",
      "4/4 [==============================] - 0s 3ms/step\n",
      "4/4 [==============================] - 0s 1ms/step\n",
      "4/4 [==============================] - 0s 1ms/step\n",
      "4/4 [==============================] - 0s 973us/step\n",
      "4/4 [==============================] - 0s 2ms/step\n",
      "4/4 [==============================] - 0s 1ms/step\n",
      "4/4 [==============================] - 0s 2ms/step\n",
      "4/4 [==============================] - 0s 1ms/step\n",
      "4/4 [==============================] - 0s 3ms/step\n",
      "4/4 [==============================] - 0s 2ms/step\n",
      "4/4 [==============================] - 0s 2ms/step\n",
      "4/4 [==============================] - 0s 2ms/step\n",
      "4/4 [==============================] - 0s 1ms/step\n",
      "4/4 [==============================] - 0s 2ms/step\n",
      "4/4 [==============================] - 0s 2ms/step\n",
      "4/4 [==============================] - 0s 2ms/step\n",
      "4/4 [==============================] - 0s 1ms/step\n",
      "4/4 [==============================] - 0s 1ms/step\n",
      "4/4 [==============================] - 0s 2ms/step\n",
      "4/4 [==============================] - 0s 922us/step\n",
      "4/4 [==============================] - 0s 2ms/step\n",
      "4/4 [==============================] - 0s 2ms/step\n",
      "4/4 [==============================] - 0s 1ms/step\n",
      "4/4 [==============================] - 0s 3ms/step\n",
      "4/4 [==============================] - 0s 3ms/step\n",
      "4/4 [==============================] - 0s 1ms/step\n",
      "4/4 [==============================] - 0s 2ms/step\n",
      "4/4 [==============================] - 0s 1ms/step\n",
      "4/4 [==============================] - 0s 1ms/step\n",
      "4/4 [==============================] - 0s 2ms/step\n",
      "4/4 [==============================] - 0s 1ms/step\n",
      "4/4 [==============================] - 0s 1ms/step\n",
      "4/4 [==============================] - 0s 3ms/step\n",
      "4/4 [==============================] - 0s 1ms/step\n",
      "4/4 [==============================] - 0s 2ms/step\n",
      "4/4 [==============================] - 0s 2ms/step\n",
      "4/4 [==============================] - 0s 1ms/step\n",
      "4/4 [==============================] - 0s 1ms/step\n",
      "4/4 [==============================] - 0s 1ms/step\n",
      "4/4 [==============================] - 0s 2ms/step\n",
      "4/4 [==============================] - 0s 2ms/step\n",
      "4/4 [==============================] - 0s 1ms/step\n",
      "4/4 [==============================] - 0s 2ms/step\n",
      "4/4 [==============================] - 0s 3ms/step\n",
      "4/4 [==============================] - 0s 2ms/step\n",
      "4/4 [==============================] - 0s 2ms/step\n",
      "4/4 [==============================] - 0s 2ms/step\n",
      "4/4 [==============================] - 0s 1ms/step\n",
      "4/4 [==============================] - 0s 6ms/step\n",
      "4/4 [==============================] - 0s 3ms/step\n",
      "4/4 [==============================] - 0s 2ms/step\n",
      "4/4 [==============================] - 0s 3ms/step\n",
      "4/4 [==============================] - 0s 1ms/step\n",
      "4/4 [==============================] - 0s 7ms/step\n",
      "4/4 [==============================] - 0s 4ms/step\n",
      "4/4 [==============================] - 0s 3ms/step\n",
      "4/4 [==============================] - 0s 5ms/step\n",
      "4/4 [==============================] - 0s 1ms/step\n",
      "4/4 [==============================] - 0s 2ms/step\n",
      "4/4 [==============================] - 0s 3ms/step\n",
      "4/4 [==============================] - 0s 6ms/step\n",
      "4/4 [==============================] - 0s 1ms/step\n",
      "4/4 [==============================] - 0s 1ms/step\n",
      "4/4 [==============================] - 0s 1ms/step\n",
      "4/4 [==============================] - 0s 1ms/step\n",
      "4/4 [==============================] - 0s 974us/step\n",
      "4/4 [==============================] - 0s 2ms/step\n",
      "4/4 [==============================] - 0s 1ms/step\n",
      "4/4 [==============================] - 0s 1ms/step\n",
      "4/4 [==============================] - 0s 2ms/step\n",
      "4/4 [==============================] - 0s 1ms/step\n",
      "4/4 [==============================] - 0s 1ms/step\n",
      "1/1 [==============================] - 0s 20ms/step\n",
      "1/1 [==============================] - 0s 17ms/step\n",
      "4/4 [==============================] - 0s 932us/step\n",
      "4/4 [==============================] - 0s 2ms/step\n",
      "4/4 [==============================] - 0s 2ms/step\n",
      "4/4 [==============================] - 0s 1ms/step\n",
      "4/4 [==============================] - 0s 1ms/step\n",
      "4/4 [==============================] - 0s 2ms/step\n",
      "4/4 [==============================] - 0s 1ms/step\n",
      "4/4 [==============================] - 0s 1ms/step\n",
      "4/4 [==============================] - 0s 950us/step\n",
      "4/4 [==============================] - 0s 2ms/step\n",
      "4/4 [==============================] - 0s 1ms/step\n",
      "4/4 [==============================] - 0s 1ms/step\n",
      "4/4 [==============================] - 0s 1ms/step\n",
      "4/4 [==============================] - 0s 1ms/step\n",
      "4/4 [==============================] - 0s 1ms/step\n",
      "4/4 [==============================] - 0s 929us/step\n",
      "4/4 [==============================] - 0s 1ms/step\n",
      "4/4 [==============================] - 0s 2ms/step\n",
      "4/4 [==============================] - 0s 1ms/step\n",
      "4/4 [==============================] - 0s 1ms/step\n",
      "4/4 [==============================] - 0s 958us/step\n",
      "4/4 [==============================] - 0s 1ms/step\n",
      "4/4 [==============================] - 0s 1ms/step\n",
      "4/4 [==============================] - 0s 2ms/step\n",
      "4/4 [==============================] - 0s 2ms/step\n",
      "4/4 [==============================] - 0s 1ms/step\n",
      "4/4 [==============================] - 0s 2ms/step\n",
      "4/4 [==============================] - 0s 959us/step\n",
      "4/4 [==============================] - 0s 1ms/step\n",
      "4/4 [==============================] - 0s 945us/step\n",
      "4/4 [==============================] - 0s 2ms/step\n",
      "4/4 [==============================] - 0s 2ms/step\n",
      "4/4 [==============================] - 0s 3ms/step\n",
      "4/4 [==============================] - 0s 2ms/step\n",
      "4/4 [==============================] - 0s 2ms/step\n",
      "4/4 [==============================] - 0s 2ms/step\n",
      "4/4 [==============================] - 0s 2ms/step\n",
      "4/4 [==============================] - 0s 1ms/step\n",
      "4/4 [==============================] - 0s 2ms/step\n",
      "4/4 [==============================] - 0s 2ms/step\n",
      "4/4 [==============================] - 0s 2ms/step\n",
      "4/4 [==============================] - 0s 1ms/step\n",
      "4/4 [==============================] - 0s 2ms/step\n",
      "4/4 [==============================] - 0s 3ms/step\n",
      "4/4 [==============================] - 0s 2ms/step\n",
      "4/4 [==============================] - 0s 1ms/step\n",
      "4/4 [==============================] - 0s 1ms/step\n",
      "4/4 [==============================] - 0s 2ms/step\n",
      "4/4 [==============================] - 0s 1ms/step\n",
      "4/4 [==============================] - 0s 1ms/step\n",
      "4/4 [==============================] - 0s 1ms/step\n",
      "4/4 [==============================] - 0s 1ms/step\n",
      "4/4 [==============================] - 0s 1ms/step\n",
      "4/4 [==============================] - 0s 1ms/step\n",
      "4/4 [==============================] - 0s 1ms/step\n",
      "4/4 [==============================] - 0s 2ms/step\n",
      "4/4 [==============================] - 0s 1ms/step\n",
      "4/4 [==============================] - 0s 1ms/step\n",
      "4/4 [==============================] - 0s 1ms/step\n",
      "4/4 [==============================] - 0s 983us/step\n",
      "4/4 [==============================] - 0s 970us/step\n",
      "4/4 [==============================] - 0s 1ms/step\n",
      "4/4 [==============================] - 0s 1ms/step\n",
      "4/4 [==============================] - 0s 1ms/step\n",
      "4/4 [==============================] - 0s 1ms/step\n",
      "4/4 [==============================] - 0s 1ms/step\n",
      "4/4 [==============================] - 0s 1ms/step\n",
      "4/4 [==============================] - 0s 993us/step\n",
      "4/4 [==============================] - 0s 1ms/step\n",
      "4/4 [==============================] - 0s 1ms/step\n",
      "4/4 [==============================] - 0s 1ms/step\n",
      "4/4 [==============================] - 0s 1ms/step\n",
      "4/4 [==============================] - 0s 1ms/step\n",
      "4/4 [==============================] - 0s 1ms/step\n",
      "4/4 [==============================] - 0s 1ms/step\n",
      "4/4 [==============================] - 0s 1ms/step\n",
      "1/1 [==============================] - 0s 22ms/step\n",
      "1/1 [==============================] - 0s 20ms/step\n",
      "4/4 [==============================] - 0s 1ms/step\n",
      "4/4 [==============================] - 0s 982us/step\n",
      "4/4 [==============================] - 0s 1ms/step\n",
      "4/4 [==============================] - 0s 1ms/step\n",
      "4/4 [==============================] - 0s 1ms/step\n",
      "4/4 [==============================] - 0s 1ms/step\n",
      "4/4 [==============================] - 0s 1ms/step\n",
      "4/4 [==============================] - 0s 1ms/step\n",
      "4/4 [==============================] - 0s 1ms/step\n",
      "4/4 [==============================] - 0s 1ms/step\n",
      "4/4 [==============================] - 0s 1ms/step\n",
      "4/4 [==============================] - 0s 1ms/step\n",
      "4/4 [==============================] - 0s 1ms/step\n",
      "4/4 [==============================] - 0s 1ms/step\n",
      "4/4 [==============================] - 0s 984us/step\n",
      "4/4 [==============================] - 0s 1ms/step\n",
      "4/4 [==============================] - 0s 1ms/step\n",
      "4/4 [==============================] - 0s 1ms/step\n",
      "4/4 [==============================] - 0s 1ms/step\n",
      "4/4 [==============================] - 0s 2ms/step\n",
      "4/4 [==============================] - 0s 950us/step\n",
      "4/4 [==============================] - 0s 991us/step\n",
      "4/4 [==============================] - 0s 1ms/step\n",
      "4/4 [==============================] - 0s 1ms/step\n",
      "4/4 [==============================] - 0s 1ms/step\n",
      "4/4 [==============================] - 0s 1ms/step\n",
      "4/4 [==============================] - 0s 1ms/step\n",
      "4/4 [==============================] - 0s 974us/step\n",
      "4/4 [==============================] - 0s 1ms/step\n",
      "4/4 [==============================] - 0s 1ms/step\n",
      "4/4 [==============================] - 0s 952us/step\n",
      "4/4 [==============================] - 0s 2ms/step\n",
      "4/4 [==============================] - 0s 1ms/step\n",
      "4/4 [==============================] - 0s 1ms/step\n",
      "4/4 [==============================] - 0s 1ms/step\n",
      "4/4 [==============================] - 0s 1ms/step\n",
      "4/4 [==============================] - 0s 1ms/step\n",
      "4/4 [==============================] - 0s 1ms/step\n",
      "4/4 [==============================] - 0s 1ms/step\n",
      "4/4 [==============================] - 0s 1ms/step\n",
      "4/4 [==============================] - 0s 1ms/step\n",
      "4/4 [==============================] - 0s 1ms/step\n",
      "4/4 [==============================] - 0s 1ms/step\n",
      "4/4 [==============================] - 0s 1ms/step\n",
      "4/4 [==============================] - 0s 1ms/step\n",
      "4/4 [==============================] - 0s 1ms/step\n",
      "4/4 [==============================] - 0s 1ms/step\n",
      "4/4 [==============================] - 0s 1ms/step\n",
      "4/4 [==============================] - 0s 2ms/step\n",
      "4/4 [==============================] - 0s 1ms/step\n",
      "4/4 [==============================] - 0s 1ms/step\n",
      "4/4 [==============================] - 0s 1ms/step\n",
      "4/4 [==============================] - 0s 1ms/step\n",
      "4/4 [==============================] - 0s 1ms/step\n",
      "4/4 [==============================] - 0s 1ms/step\n",
      "4/4 [==============================] - 0s 1ms/step\n",
      "4/4 [==============================] - 0s 1ms/step\n",
      "4/4 [==============================] - 0s 1ms/step\n",
      "4/4 [==============================] - 0s 1ms/step\n",
      "4/4 [==============================] - 0s 1ms/step\n",
      "1/1 [==============================] - 0s 18ms/step\n",
      "1/1 [==============================] - 0s 18ms/step\n",
      "4/4 [==============================] - 0s 1ms/step\n",
      "4/4 [==============================] - 0s 1ms/step\n",
      "4/4 [==============================] - 0s 1ms/step\n",
      "4/4 [==============================] - 0s 929us/step\n",
      "4/4 [==============================] - 0s 1ms/step\n",
      "4/4 [==============================] - 0s 1ms/step\n",
      "4/4 [==============================] - 0s 1ms/step\n",
      "4/4 [==============================] - 0s 945us/step\n",
      "4/4 [==============================] - 0s 1ms/step\n",
      "4/4 [==============================] - 0s 1ms/step\n",
      "4/4 [==============================] - 0s 981us/step\n",
      "4/4 [==============================] - 0s 1ms/step\n",
      "4/4 [==============================] - 0s 1ms/step\n",
      "4/4 [==============================] - 0s 1ms/step\n",
      "4/4 [==============================] - 0s 1ms/step\n",
      "4/4 [==============================] - 0s 1ms/step\n",
      "4/4 [==============================] - 0s 1ms/step\n",
      "4/4 [==============================] - 0s 1ms/step\n",
      "4/4 [==============================] - 0s 1ms/step\n",
      "4/4 [==============================] - 0s 1ms/step\n",
      "4/4 [==============================] - 0s 2ms/step\n",
      "4/4 [==============================] - 0s 961us/step\n",
      "4/4 [==============================] - 0s 1ms/step\n",
      "4/4 [==============================] - 0s 946us/step\n",
      "4/4 [==============================] - 0s 973us/step\n",
      "4/4 [==============================] - 0s 1ms/step\n",
      "4/4 [==============================] - 0s 1ms/step\n",
      "4/4 [==============================] - 0s 1ms/step\n",
      "4/4 [==============================] - 0s 1ms/step\n",
      "4/4 [==============================] - 0s 2ms/step\n",
      "4/4 [==============================] - 0s 926us/step\n",
      "4/4 [==============================] - 0s 2ms/step\n",
      "4/4 [==============================] - 0s 3ms/step\n",
      "4/4 [==============================] - 0s 904us/step\n",
      "4/4 [==============================] - 0s 960us/step\n",
      "4/4 [==============================] - 0s 943us/step\n",
      "4/4 [==============================] - 0s 1ms/step\n",
      "4/4 [==============================] - 0s 1ms/step\n",
      "4/4 [==============================] - 0s 1ms/step\n",
      "4/4 [==============================] - 0s 913us/step\n",
      "4/4 [==============================] - 0s 1ms/step\n",
      "4/4 [==============================] - 0s 1ms/step\n",
      "4/4 [==============================] - 0s 1ms/step\n",
      "4/4 [==============================] - 0s 2ms/step\n",
      "4/4 [==============================] - 0s 1ms/step\n",
      "4/4 [==============================] - 0s 1ms/step\n",
      "4/4 [==============================] - 0s 2ms/step\n",
      "4/4 [==============================] - 0s 2ms/step\n",
      "4/4 [==============================] - 0s 1ms/step\n",
      "4/4 [==============================] - 0s 1ms/step\n",
      "4/4 [==============================] - 0s 955us/step\n",
      "4/4 [==============================] - 0s 5ms/step\n",
      "4/4 [==============================] - 0s 4ms/step\n",
      "4/4 [==============================] - 0s 2ms/step\n",
      "4/4 [==============================] - 0s 1ms/step\n",
      "4/4 [==============================] - 0s 1ms/step\n",
      "4/4 [==============================] - 0s 1ms/step\n",
      "4/4 [==============================] - 0s 1ms/step\n",
      "4/4 [==============================] - 0s 1ms/step\n",
      "4/4 [==============================] - 0s 913us/step\n",
      "4/4 [==============================] - 0s 979us/step\n",
      "4/4 [==============================] - 0s 941us/step\n",
      "4/4 [==============================] - 0s 1ms/step\n",
      "4/4 [==============================] - 0s 1ms/step\n",
      "4/4 [==============================] - 0s 1ms/step\n",
      "4/4 [==============================] - 0s 1ms/step\n",
      "4/4 [==============================] - 0s 1ms/step\n",
      "4/4 [==============================] - 0s 1ms/step\n",
      "4/4 [==============================] - 0s 1ms/step\n",
      "4/4 [==============================] - 0s 1ms/step\n",
      "4/4 [==============================] - 0s 2ms/step\n",
      "4/4 [==============================] - 0s 2ms/step\n",
      "4/4 [==============================] - 0s 925us/step\n",
      "4/4 [==============================] - 0s 1ms/step\n",
      "1/1 [==============================] - 0s 15ms/step\n",
      "1/1 [==============================] - 0s 20ms/step\n",
      "4/4 [==============================] - 0s 1ms/step\n",
      "4/4 [==============================] - 0s 2ms/step\n",
      "4/4 [==============================] - 0s 1ms/step\n",
      "4/4 [==============================] - 0s 991us/step\n",
      "4/4 [==============================] - 0s 1ms/step\n",
      "4/4 [==============================] - 0s 1ms/step\n",
      "4/4 [==============================] - 0s 1ms/step\n",
      "4/4 [==============================] - 0s 1ms/step\n",
      "4/4 [==============================] - 0s 979us/step\n",
      "4/4 [==============================] - 0s 1ms/step\n",
      "4/4 [==============================] - 0s 2ms/step\n",
      "4/4 [==============================] - 0s 3ms/step\n",
      "4/4 [==============================] - 0s 2ms/step\n",
      "4/4 [==============================] - 0s 2ms/step\n",
      "4/4 [==============================] - 0s 2ms/step\n",
      "4/4 [==============================] - 0s 1ms/step\n",
      "4/4 [==============================] - 0s 1ms/step\n",
      "4/4 [==============================] - 0s 949us/step\n",
      "4/4 [==============================] - 0s 971us/step\n",
      "4/4 [==============================] - 0s 1ms/step\n",
      "1/1 [==============================] - 0s 50ms/step\n",
      "1/1 [==============================] - 0s 36ms/step\n",
      "4/4 [==============================] - 0s 3ms/step\n",
      "4/4 [==============================] - 0s 5ms/step\n",
      "4/4 [==============================] - 0s 9ms/step\n",
      "4/4 [==============================] - 0s 1ms/step\n",
      "4/4 [==============================] - 0s 3ms/step\n",
      "4/4 [==============================] - 0s 6ms/step\n",
      "4/4 [==============================] - 0s 6ms/step\n",
      "4/4 [==============================] - 0s 1ms/step\n",
      "4/4 [==============================] - 0s 1ms/step\n",
      "4/4 [==============================] - 0s 1ms/step\n",
      "4/4 [==============================] - 0s 5ms/step\n",
      "4/4 [==============================] - 0s 965us/step\n",
      "4/4 [==============================] - 0s 895us/step\n",
      "4/4 [==============================] - 0s 1ms/step\n",
      "4/4 [==============================] - 0s 1ms/step\n",
      "4/4 [==============================] - 0s 1ms/step\n",
      "4/4 [==============================] - 0s 1ms/step\n",
      "4/4 [==============================] - 0s 1ms/step\n",
      "4/4 [==============================] - 0s 1ms/step\n",
      "4/4 [==============================] - 0s 1ms/step\n",
      "4/4 [==============================] - 0s 1ms/step\n",
      "4/4 [==============================] - 0s 961us/step\n",
      "4/4 [==============================] - 0s 1ms/step\n",
      "4/4 [==============================] - 0s 1ms/step\n",
      "4/4 [==============================] - 0s 1ms/step\n",
      "4/4 [==============================] - 0s 4ms/step\n",
      "4/4 [==============================] - 0s 3ms/step\n",
      "4/4 [==============================] - 0s 3ms/step\n",
      "4/4 [==============================] - 0s 1ms/step\n",
      "4/4 [==============================] - 0s 2ms/step\n",
      "4/4 [==============================] - 0s 1ms/step\n",
      "4/4 [==============================] - 0s 1ms/step\n",
      "1/1 [==============================] - 0s 19ms/step\n",
      "1/1 [==============================] - 0s 17ms/step\n",
      "4/4 [==============================] - 0s 1ms/step\n",
      "4/4 [==============================] - 0s 2ms/step\n",
      "4/4 [==============================] - 0s 1ms/step\n",
      "4/4 [==============================] - 0s 1ms/step\n",
      "4/4 [==============================] - 0s 2ms/step\n",
      "4/4 [==============================] - 0s 1ms/step\n",
      "4/4 [==============================] - 0s 1ms/step\n",
      "4/4 [==============================] - 0s 1ms/step\n",
      "4/4 [==============================] - 0s 2ms/step\n",
      "4/4 [==============================] - 0s 2ms/step\n",
      "4/4 [==============================] - 0s 934us/step\n",
      "4/4 [==============================] - 0s 2ms/step\n",
      "4/4 [==============================] - 0s 990us/step\n",
      "4/4 [==============================] - 0s 1ms/step\n",
      "4/4 [==============================] - 0s 1ms/step\n",
      "4/4 [==============================] - 0s 1ms/step\n",
      "4/4 [==============================] - 0s 1ms/step\n",
      "4/4 [==============================] - 0s 1ms/step\n",
      "4/4 [==============================] - 0s 1ms/step\n",
      "4/4 [==============================] - 0s 1ms/step\n",
      "1/1 [==============================] - 0s 18ms/step\n",
      "1/1 [==============================] - 0s 17ms/step\n",
      "4/4 [==============================] - 0s 1ms/step\n",
      "4/4 [==============================] - 0s 959us/step\n",
      "4/4 [==============================] - 0s 1ms/step\n",
      "4/4 [==============================] - 0s 1ms/step\n",
      "4/4 [==============================] - 0s 1ms/step\n",
      "4/4 [==============================] - 0s 1ms/step\n",
      "4/4 [==============================] - 0s 1ms/step\n",
      "4/4 [==============================] - 0s 1ms/step\n",
      "4/4 [==============================] - 0s 1ms/step\n",
      "4/4 [==============================] - 0s 1ms/step\n",
      "4/4 [==============================] - 0s 920us/step\n",
      "4/4 [==============================] - 0s 1ms/step\n",
      "4/4 [==============================] - 0s 1ms/step\n",
      "4/4 [==============================] - 0s 1ms/step\n",
      "4/4 [==============================] - 0s 1ms/step\n",
      "4/4 [==============================] - 0s 1ms/step\n",
      "4/4 [==============================] - 0s 1ms/step\n",
      "4/4 [==============================] - 0s 2ms/step\n",
      "4/4 [==============================] - 0s 1ms/step\n",
      "4/4 [==============================] - 0s 951us/step\n",
      "1/1 [==============================] - 0s 17ms/step\n",
      "1/1 [==============================] - 0s 18ms/step\n",
      "4/4 [==============================] - 0s 1ms/step\n",
      "4/4 [==============================] - 0s 1ms/step\n",
      "4/4 [==============================] - 0s 1ms/step\n",
      "4/4 [==============================] - 0s 1ms/step\n",
      "4/4 [==============================] - 0s 1ms/step\n",
      "4/4 [==============================] - 0s 1ms/step\n",
      "4/4 [==============================] - 0s 1ms/step\n",
      "4/4 [==============================] - 0s 1ms/step\n",
      "4/4 [==============================] - 0s 1ms/step\n",
      "4/4 [==============================] - 0s 1ms/step\n",
      "4/4 [==============================] - 0s 979us/step\n",
      "4/4 [==============================] - 0s 1ms/step\n",
      "4/4 [==============================] - 0s 1ms/step\n",
      "4/4 [==============================] - 0s 1ms/step\n",
      "4/4 [==============================] - 0s 1ms/step\n",
      "4/4 [==============================] - 0s 1ms/step\n",
      "4/4 [==============================] - 0s 1ms/step\n",
      "4/4 [==============================] - 0s 1ms/step\n",
      "4/4 [==============================] - 0s 2ms/step\n",
      "4/4 [==============================] - 0s 2ms/step\n",
      "1/1 [==============================] - 0s 17ms/step\n",
      "1/1 [==============================] - 0s 18ms/step\n",
      "4/4 [==============================] - 0s 1ms/step\n",
      "4/4 [==============================] - 0s 1ms/step\n",
      "4/4 [==============================] - 0s 1ms/step\n",
      "4/4 [==============================] - 0s 1ms/step\n",
      "4/4 [==============================] - 0s 1ms/step\n",
      "4/4 [==============================] - 0s 1ms/step\n",
      "4/4 [==============================] - 0s 1ms/step\n",
      "4/4 [==============================] - 0s 1ms/step\n",
      "4/4 [==============================] - 0s 1ms/step\n",
      "4/4 [==============================] - 0s 1ms/step\n",
      "4/4 [==============================] - 0s 1ms/step\n",
      "4/4 [==============================] - 0s 1ms/step\n",
      "4/4 [==============================] - 0s 1ms/step\n",
      "4/4 [==============================] - 0s 1ms/step\n",
      "4/4 [==============================] - 0s 982us/step\n",
      "4/4 [==============================] - 0s 1ms/step\n",
      "4/4 [==============================] - 0s 1ms/step\n",
      "4/4 [==============================] - 0s 2ms/step\n",
      "4/4 [==============================] - 0s 911us/step\n",
      "4/4 [==============================] - 0s 968us/step\n",
      "1/1 [==============================] - 0s 26ms/step\n",
      "1/1 [==============================] - 0s 19ms/step\n",
      "4/4 [==============================] - 0s 2ms/step\n",
      "4/4 [==============================] - 0s 1ms/step\n",
      "4/4 [==============================] - 0s 1ms/step\n",
      "4/4 [==============================] - 0s 994us/step\n",
      "4/4 [==============================] - 0s 3ms/step\n",
      "4/4 [==============================] - 0s 1ms/step\n",
      "4/4 [==============================] - 0s 980us/step\n",
      "4/4 [==============================] - 0s 2ms/step\n",
      "4/4 [==============================] - 0s 1ms/step\n",
      "4/4 [==============================] - 0s 2ms/step\n",
      "4/4 [==============================] - 0s 4ms/step\n",
      "4/4 [==============================] - 0s 2ms/step\n",
      "4/4 [==============================] - 0s 2ms/step\n",
      "4/4 [==============================] - 0s 2ms/step\n",
      "4/4 [==============================] - 0s 2ms/step\n",
      "4/4 [==============================] - 0s 2ms/step\n",
      "4/4 [==============================] - 0s 1ms/step\n",
      "4/4 [==============================] - 0s 2ms/step\n",
      "1/1 [==============================] - 0s 37ms/step\n",
      "1/1 [==============================] - 0s 16ms/step\n",
      "4/4 [==============================] - 0s 1ms/step\n",
      "4/4 [==============================] - 0s 1ms/step\n",
      "4/4 [==============================] - 0s 1ms/step\n",
      "4/4 [==============================] - 0s 1ms/step\n",
      "4/4 [==============================] - 0s 917us/step\n",
      "4/4 [==============================] - 0s 931us/step\n",
      "4/4 [==============================] - 0s 1ms/step\n",
      "4/4 [==============================] - 0s 1ms/step\n",
      "4/4 [==============================] - 0s 1ms/step\n",
      "4/4 [==============================] - 0s 1ms/step\n",
      "4/4 [==============================] - 0s 1ms/step\n",
      "4/4 [==============================] - 0s 1ms/step\n",
      "4/4 [==============================] - 0s 1ms/step\n",
      "4/4 [==============================] - 0s 1ms/step\n",
      "4/4 [==============================] - 0s 1ms/step\n",
      "4/4 [==============================] - 0s 2ms/step\n",
      "4/4 [==============================] - 0s 2ms/step\n",
      "4/4 [==============================] - 0s 3ms/step\n",
      "1/1 [==============================] - 0s 29ms/step\n",
      "1/1 [==============================] - 0s 34ms/step\n",
      "4/4 [==============================] - 0s 2ms/step\n",
      "4/4 [==============================] - 0s 975us/step\n",
      "4/4 [==============================] - 0s 942us/step\n",
      "4/4 [==============================] - 0s 1ms/step\n",
      "4/4 [==============================] - 0s 1ms/step\n",
      "4/4 [==============================] - 0s 945us/step\n",
      "4/4 [==============================] - 0s 1ms/step\n",
      "4/4 [==============================] - 0s 963us/step\n",
      "4/4 [==============================] - 0s 957us/step\n",
      "4/4 [==============================] - 0s 1ms/step\n",
      "4/4 [==============================] - 0s 1ms/step\n",
      "4/4 [==============================] - 0s 1ms/step\n",
      "4/4 [==============================] - 0s 1ms/step\n",
      "4/4 [==============================] - 0s 1ms/step\n",
      "4/4 [==============================] - 0s 1ms/step\n",
      "4/4 [==============================] - 0s 1ms/step\n",
      "4/4 [==============================] - 0s 1ms/step\n",
      "4/4 [==============================] - 0s 966us/step\n",
      "4/4 [==============================] - 0s 1ms/step\n",
      "4/4 [==============================] - 0s 1ms/step\n",
      "4/4 [==============================] - 0s 1ms/step\n",
      "4/4 [==============================] - 0s 1ms/step\n",
      "4/4 [==============================] - 0s 1ms/step\n",
      "4/4 [==============================] - 0s 934us/step\n",
      "4/4 [==============================] - 0s 1ms/step\n",
      "4/4 [==============================] - 0s 2ms/step\n",
      "4/4 [==============================] - 0s 1ms/step\n",
      "4/4 [==============================] - 0s 2ms/step\n",
      "1/1 [==============================] - 0s 19ms/step\n",
      "1/1 [==============================] - 0s 17ms/step\n",
      "4/4 [==============================] - 0s 1ms/step\n",
      "4/4 [==============================] - 0s 1ms/step\n",
      "4/4 [==============================] - 0s 3ms/step\n",
      "4/4 [==============================] - 0s 941us/step\n",
      "4/4 [==============================] - 0s 1ms/step\n",
      "4/4 [==============================] - 0s 2ms/step\n",
      "4/4 [==============================] - 0s 963us/step\n",
      "4/4 [==============================] - 0s 1ms/step\n",
      "4/4 [==============================] - 0s 1ms/step\n",
      "4/4 [==============================] - 0s 1ms/step\n",
      "4/4 [==============================] - 0s 944us/step\n",
      "4/4 [==============================] - 0s 1ms/step\n",
      "4/4 [==============================] - 0s 1ms/step\n",
      "4/4 [==============================] - 0s 1ms/step\n",
      "4/4 [==============================] - 0s 1ms/step\n",
      "4/4 [==============================] - 0s 1ms/step\n",
      "4/4 [==============================] - 0s 1ms/step\n",
      "4/4 [==============================] - 0s 1ms/step\n",
      "4/4 [==============================] - 0s 1ms/step\n",
      "4/4 [==============================] - 0s 1ms/step\n",
      "4/4 [==============================] - 0s 1ms/step\n",
      "4/4 [==============================] - 0s 1ms/step\n",
      "4/4 [==============================] - 0s 1ms/step\n",
      "4/4 [==============================] - 0s 933us/step\n",
      "4/4 [==============================] - 0s 948us/step\n",
      "4/4 [==============================] - 0s 2ms/step\n",
      "4/4 [==============================] - 0s 1ms/step\n",
      "4/4 [==============================] - 0s 1ms/step\n",
      "1/1 [==============================] - 0s 19ms/step\n",
      "1/1 [==============================] - 0s 18ms/step\n",
      "4/4 [==============================] - 0s 1ms/step\n",
      "4/4 [==============================] - 0s 1ms/step\n",
      "4/4 [==============================] - 0s 1ms/step\n",
      "4/4 [==============================] - 0s 1ms/step\n",
      "4/4 [==============================] - 0s 1ms/step\n",
      "4/4 [==============================] - 0s 2ms/step\n",
      "1/1 [==============================] - 0s 19ms/step\n",
      "1/1 [==============================] - 0s 19ms/step\n",
      "4/4 [==============================] - 0s 1ms/step\n",
      "4/4 [==============================] - 0s 1ms/step\n",
      "4/4 [==============================] - 0s 1ms/step\n",
      "4/4 [==============================] - 0s 1ms/step\n",
      "4/4 [==============================] - 0s 1ms/step\n",
      "4/4 [==============================] - 0s 1ms/step\n",
      "4/4 [==============================] - 0s 2ms/step\n",
      "4/4 [==============================] - 0s 2ms/step\n",
      "4/4 [==============================] - 0s 1ms/step\n",
      "4/4 [==============================] - 0s 1ms/step\n",
      "4/4 [==============================] - 0s 1ms/step\n",
      "4/4 [==============================] - 0s 1ms/step\n",
      "1/1 [==============================] - 0s 17ms/step\n",
      "1/1 [==============================] - 0s 18ms/step\n",
      "4/4 [==============================] - 0s 2ms/step\n",
      "4/4 [==============================] - 0s 1ms/step\n",
      "4/4 [==============================] - 0s 1ms/step\n",
      "4/4 [==============================] - 0s 1ms/step\n",
      "4/4 [==============================] - 0s 950us/step\n",
      "4/4 [==============================] - 0s 1ms/step\n",
      "1/1 [==============================] - 0s 17ms/step\n",
      "1/1 [==============================] - 0s 18ms/step\n",
      "4/4 [==============================] - 0s 1ms/step\n",
      "4/4 [==============================] - 0s 955us/step\n",
      "4/4 [==============================] - 0s 940us/step\n",
      "4/4 [==============================] - 0s 970us/step\n",
      "4/4 [==============================] - 0s 1ms/step\n",
      "4/4 [==============================] - 0s 2ms/step\n",
      "1/1 [==============================] - 0s 21ms/step\n",
      "1/1 [==============================] - 0s 28ms/step\n",
      "4/4 [==============================] - 0s 2ms/step\n",
      "4/4 [==============================] - 0s 2ms/step\n",
      "4/4 [==============================] - 0s 1ms/step\n",
      "4/4 [==============================] - 0s 922us/step\n",
      "1/1 [==============================] - 0s 20ms/step\n",
      "1/1 [==============================] - 0s 19ms/step\n",
      "4/4 [==============================] - 0s 963us/step\n",
      "4/4 [==============================] - 0s 2ms/step\n",
      "4/4 [==============================] - 0s 2ms/step\n",
      "4/4 [==============================] - 0s 1ms/step\n",
      "1/1 [==============================] - 0s 19ms/step\n",
      "1/1 [==============================] - 0s 17ms/step\n",
      "4/4 [==============================] - 0s 989us/step\n",
      "4/4 [==============================] - 0s 971us/step\n",
      "1/1 [==============================] - 0s 37ms/step\n",
      "4/4 [==============================] - 0s 1ms/step\n",
      "1/1 [==============================] - 0s 17ms/step\n"
     ]
    }
   ],
   "source": [
    "exp = explainer.explain_instance(data[i, :-1], predict_fn)"
   ]
  },
  {
   "cell_type": "code",
   "execution_count": 63,
   "metadata": {},
   "outputs": [
    {
     "name": "stdout",
     "output_type": "stream",
     "text": [
      "RI > -0.64\n",
      "K > -0.60\n",
      "Na <= 0.84\n",
      "Si > -0.81\n",
      "Al > -0.57\n"
     ]
    }
   ],
   "source": [
    "for name in exp.names():\n",
    "\tprint(name)"
   ]
  },
  {
   "cell_type": "code",
   "execution_count": 64,
   "metadata": {},
   "outputs": [
    {
     "name": "stdout",
     "output_type": "stream",
     "text": [
      "1.427691214515511 <= RI <= 5.127691214515445\n",
      "-1.518120229258977 <= Al <= -1.408120229258977\n",
      "K == -0.790702170757714\n",
      "Ca == 4.24127975754059\n",
      "Ba == -0.3615292659832898\n",
      "Fe == -0.6037614142464092\n"
     ]
    }
   ],
   "source": [
    "pretty_print_explanation(improved_explanation)"
   ]
  },
  {
   "cell_type": "code",
   "execution_count": 65,
   "metadata": {},
   "outputs": [
    {
     "name": "stdout",
     "output_type": "stream",
     "text": [
      "RI <= 5.127691214515445\n",
      "RI >= 1.427691214515511\n",
      "Al <= -1.408120229258977\n",
      "Al >= -1.518120229258977\n",
      "K == -0.790702170757714\n",
      "Ca == 4.24127975754059\n",
      "Ba == -0.3615292659832898\n",
      "Fe == -0.6037614142464092\n"
     ]
    }
   ],
   "source": [
    "simple_print_explanation(improved_explanation)"
   ]
  },
  {
   "cell_type": "code",
   "execution_count": 66,
   "metadata": {},
   "outputs": [
    {
     "name": "stdout",
     "output_type": "stream",
     "text": [
      "Precision: 0.252684\n",
      "Coverage:  0.386700\n"
     ]
    }
   ],
   "source": [
    "print('Precision: %f' % exp.precision())\n",
    "print('Coverage:  %f' % exp.coverage())"
   ]
  },
  {
   "cell_type": "code",
   "execution_count": 67,
   "metadata": {},
   "outputs": [
    {
     "data": {
      "text/plain": [
       "3.7016347739883133"
      ]
     },
     "execution_count": 67,
     "metadata": {},
     "output_type": "execute_result"
    }
   ],
   "source": [
    "ranges = [get_interval_distance(group[feature]) for feature in group_by_name(improved_explanation)]\n",
    "\n",
    "get_diameter(ranges)"
   ]
  },
  {
   "attachments": {},
   "cell_type": "markdown",
   "metadata": {},
   "source": [
    "## Australian"
   ]
  },
  {
   "cell_type": "code",
   "execution_count": 68,
   "metadata": {},
   "outputs": [],
   "source": [
    "dataset_name = 'australian'\n",
    "\n",
    "training_data = pd.read_csv(f'datasets/{dataset_name}/train.csv')\n",
    "testing_data = pd.read_csv(f'datasets/{dataset_name}/test.csv')\n",
    "\n",
    "dataframe = pd.concat([training_data, testing_data])\n",
    "\n",
    "keras_model = tf.keras.models.load_model(f'datasets/{dataset_name}/model_2layers_{dataset_name}.h5')\n",
    "\n",
    "data = dataframe.to_numpy()\n",
    "n_classes = dataframe['target'].nunique()"
   ]
  },
  {
   "cell_type": "code",
   "execution_count": 69,
   "metadata": {},
   "outputs": [],
   "source": [
    "mp_model, output_bounds = codify_network(keras_model, dataframe, 'fischetti', relax_constraints=False)"
   ]
  },
  {
   "attachments": {},
   "cell_type": "markdown",
   "metadata": {},
   "source": [
    "TODO: Get random `i`"
   ]
  },
  {
   "cell_type": "code",
   "execution_count": 70,
   "metadata": {},
   "outputs": [
    {
     "name": "stdout",
     "output_type": "stream",
     "text": [
      "i = 138\n",
      "1/1 [==============================] - 0s 49ms/step\n",
      "1/1 [==============================] - 0s 21ms/step\n",
      "Predictions: (ndarray[ndarray[<class 'numpy.float32'>]]) 0.03920661\n",
      "Network output: (<class 'numpy.int64'>) 1\n"
     ]
    }
   ],
   "source": [
    "i = 138\n",
    "print('i =', i)\n",
    "network_input = data[i, :-1]\n",
    "network_input = tf.reshape(tf.constant(network_input), [1, -1])\n",
    "network_output = keras_model.predict(tf.constant(network_input))[0]\n",
    "network_output = tf.argmax(network_output)\n",
    "\n",
    "predictions = keras_model.predict(tf.constant(network_input))[0, 0]\n",
    "\n",
    "print(f'Predictions: (ndarray[ndarray[{type(predictions)}]])', predictions)\n",
    "classification: np.int64 = network_output.numpy()\n",
    "print(f'Network output: ({type(classification)})', classification)"
   ]
  },
  {
   "cell_type": "code",
   "execution_count": 71,
   "metadata": {},
   "outputs": [
    {
     "data": {
      "text/plain": [
       "[docplex.mp.LinearConstraint[input5](x_4,EQ,1.528974678604176),\n",
       " docplex.mp.LinearConstraint[input6](x_5,EQ,4.0),\n",
       " docplex.mp.LinearConstraint[input8](x_7,EQ,1.0),\n",
       " docplex.mp.LinearConstraint[input11](x_10,EQ,0),\n",
       " docplex.mp.LinearConstraint[input12](x_11,EQ,2.0),\n",
       " docplex.mp.LinearConstraint[input13](x_12,EQ,-1.0696373068996796)]"
      ]
     },
     "execution_count": 71,
     "metadata": {},
     "output_type": "execute_result"
    }
   ],
   "source": [
    "mdl_aux = mp_model.clone()\n",
    "\n",
    "minimal_explanation = get_minimal_explanation(mdl_aux, network_input, network_output, n_classes, 'fischetti', output_bounds)\n",
    "minimal_explanation"
   ]
  },
  {
   "attachments": {},
   "cell_type": "markdown",
   "metadata": {},
   "source": [
    "### Improving the Explanation"
   ]
  },
  {
   "cell_type": "code",
   "execution_count": 72,
   "metadata": {},
   "outputs": [],
   "source": [
    "minimal_model = mdl_aux\n",
    "testing_model = minimal_model.clone()"
   ]
  },
  {
   "cell_type": "code",
   "execution_count": 73,
   "metadata": {},
   "outputs": [
    {
     "data": {
      "text/plain": [
       "[docplex.mp.LinearConstraint[input5](x_4,EQ,1.528974678604176),\n",
       " docplex.mp.LinearConstraint[input6](x_5,EQ,4.0),\n",
       " docplex.mp.LinearConstraint[input8](x_7,EQ,1.0),\n",
       " docplex.mp.LinearConstraint[input11](x_10,EQ,0),\n",
       " docplex.mp.LinearConstraint[input12](x_11,EQ,2.0),\n",
       " docplex.mp.LinearConstraint[input13](x_12,EQ,-1.0696373068996796)]"
      ]
     },
     "execution_count": 73,
     "metadata": {},
     "output_type": "execute_result"
    }
   ],
   "source": [
    "linear_constraints = testing_model.find_matching_linear_constraints('input')\n",
    "linear_constraints"
   ]
  },
  {
   "cell_type": "code",
   "execution_count": 74,
   "metadata": {},
   "outputs": [],
   "source": [
    "linear_constraints = testing_model.find_matching_linear_constraints('input')\n",
    "\n",
    "for constraint in linear_constraints:\n",
    "\ttesting_model.remove_constraint(constraint)\n",
    "\ttesting_model.add_constraint(constraint.lhs <= constraint.rhs.clone(), 'input LE')\n",
    "\ttesting_model.add_constraint(constraint.lhs >= constraint.rhs.clone(), 'input GE')"
   ]
  },
  {
   "cell_type": "code",
   "execution_count": 75,
   "metadata": {},
   "outputs": [
    {
     "data": {
      "text/plain": [
       "[docplex.mp.LinearConstraint[input LE](x_4,LE,1.528974678604176),\n",
       " docplex.mp.LinearConstraint[input GE](x_4,GE,1.528974678604176),\n",
       " docplex.mp.LinearConstraint[input LE](x_5,LE,4.0),\n",
       " docplex.mp.LinearConstraint[input GE](x_5,GE,4.0),\n",
       " docplex.mp.LinearConstraint[input LE](x_7,LE,1.0),\n",
       " docplex.mp.LinearConstraint[input GE](x_7,GE,1.0),\n",
       " docplex.mp.LinearConstraint[input LE](x_10,LE,0),\n",
       " docplex.mp.LinearConstraint[input GE](x_10,GE,0),\n",
       " docplex.mp.LinearConstraint[input LE](x_11,LE,2.0),\n",
       " docplex.mp.LinearConstraint[input GE](x_11,GE,2.0),\n",
       " docplex.mp.LinearConstraint[input LE](x_12,LE,-1.0696373068996796),\n",
       " docplex.mp.LinearConstraint[input GE](x_12,GE,-1.0696373068996796)]"
      ]
     },
     "execution_count": 75,
     "metadata": {},
     "output_type": "execute_result"
    }
   ],
   "source": [
    "linear_constraints = testing_model.find_matching_linear_constraints('input')\n",
    "linear_constraints"
   ]
  },
  {
   "cell_type": "code",
   "execution_count": 76,
   "metadata": {},
   "outputs": [
    {
     "name": "stdout",
     "output_type": "stream",
     "text": [
      "Initial constraint:\t input LE: x_4 <= 1.528974678604176\n",
      "Final constraint:\t input LE: x_4 <= 1.7989746786041763\n",
      "\n",
      "Initial constraint:\t input GE: x_4 >= 1.528974678604176\n",
      "Final constraint:\t input GE: x_4 >= 0.8289746786041754\n",
      "\n",
      "Initial constraint:\t input LE: x_5 <= 4.0\n",
      "Final constraint:\t input LE: x_5 <= 4.989999999999979\n",
      "\n",
      "Initial constraint:\t input GE: x_5 >= 4.0\n",
      "Final constraint:\t input GE: x_5 >= 2.0100000000000424\n",
      "\n",
      "Initial constraint:\t input LE: x_7 <= 1.0\n",
      "Final constraint:\t input LE: x_7 <= 1.0\n",
      "\n",
      "Initial constraint:\t input GE: x_7 >= 1.0\n",
      "Final constraint:\t input GE: x_7 >= 0.009999999999999247\n",
      "\n",
      "Initial constraint:\t input LE: x_10 <= 0\n",
      "Final constraint:\t input LE: x_10 <= 0.9900000000000007\n",
      "\n",
      "Initial constraint:\t input GE: x_10 >= 0.9900000000000007\n",
      "Final constraint:\t input GE: x_10 >= 0.009999999999999913\n",
      "\n",
      "Initial constraint:\t input LE: x_11 <= 2.0\n",
      "Final constraint:\t input LE: x_11 <= 2.9999999999999787\n",
      "\n",
      "Initial constraint:\t input GE: x_11 >= 2.0\n",
      "Final constraint:\t input GE: x_11 >= 1.0099999999999991\n",
      "\n",
      "Initial constraint:\t input LE: x_12 <= -1.0696373068996796\n",
      "Final constraint:\t input LE: x_12 <= 10.55036269310014\n",
      "\n",
      "Initial constraint:\t input GE: x_12 >= -1.0696373068996796\n",
      "Final constraint:\t input GE: x_12 >= -1.0696373068996796\n",
      "\n"
     ]
    }
   ],
   "source": [
    "log_and_improve_explanation(linear_constraints, epsilon=0.01)"
   ]
  },
  {
   "cell_type": "code",
   "execution_count": 77,
   "metadata": {},
   "outputs": [
    {
     "data": {
      "text/plain": [
       "[docplex.mp.LinearConstraint[input LE](x_4,LE,1.7989746786041763),\n",
       " docplex.mp.LinearConstraint[input GE](x_4,GE,0.8289746786041754),\n",
       " docplex.mp.LinearConstraint[input LE](x_5,LE,4.989999999999979),\n",
       " docplex.mp.LinearConstraint[input GE](x_5,GE,2.0100000000000424),\n",
       " docplex.mp.LinearConstraint[input LE](x_7,LE,1.0),\n",
       " docplex.mp.LinearConstraint[input GE](x_7,GE,0.009999999999999247),\n",
       " docplex.mp.LinearConstraint[input LE](x_10,LE,0.009999999999999913),\n",
       " docplex.mp.LinearConstraint[input GE](x_10,GE,0.009999999999999913),\n",
       " docplex.mp.LinearConstraint[input LE](x_11,LE,2.9999999999999787),\n",
       " docplex.mp.LinearConstraint[input GE](x_11,GE,1.0099999999999991),\n",
       " docplex.mp.LinearConstraint[input LE](x_12,LE,10.55036269310014),\n",
       " docplex.mp.LinearConstraint[input GE](x_12,GE,-1.0696373068996796)]"
      ]
     },
     "execution_count": 77,
     "metadata": {},
     "output_type": "execute_result"
    }
   ],
   "source": [
    "linear_constraints = testing_model.find_matching_linear_constraints('input')\n",
    "linear_constraints"
   ]
  },
  {
   "cell_type": "code",
   "execution_count": 78,
   "metadata": {},
   "outputs": [],
   "source": [
    "number_of_inputs = len(dataframe.columns.drop('target'))\n",
    "for i in range(number_of_inputs):\n",
    "\tconstraints_of_x_i = filter(lambda x: x.lhs.name == f'x_{i}', linear_constraints)\n",
    "\tconstraints = [c for c in constraints_of_x_i]\n",
    "\n",
    "\tif len(constraints) == 2:\n",
    "\t\tif constraints[0].rhs.constant == constraints[1].rhs.constant:\n",
    "\t\t\ttesting_model.remove_constraints(constraints)\n",
    "\t\t\ttesting_model.add_constraint(constraints[0].lhs == constraints[0].rhs, 'input')"
   ]
  },
  {
   "cell_type": "code",
   "execution_count": 79,
   "metadata": {},
   "outputs": [
    {
     "data": {
      "text/plain": [
       "[docplex.mp.LinearConstraint[input LE](x_4,LE,1.7989746786041763),\n",
       " docplex.mp.LinearConstraint[input GE](x_4,GE,0.8289746786041754),\n",
       " docplex.mp.LinearConstraint[input LE](x_5,LE,4.989999999999979),\n",
       " docplex.mp.LinearConstraint[input GE](x_5,GE,2.0100000000000424),\n",
       " docplex.mp.LinearConstraint[input LE](x_7,LE,1.0),\n",
       " docplex.mp.LinearConstraint[input GE](x_7,GE,0.009999999999999247),\n",
       " docplex.mp.LinearConstraint[input LE](x_11,LE,2.9999999999999787),\n",
       " docplex.mp.LinearConstraint[input GE](x_11,GE,1.0099999999999991),\n",
       " docplex.mp.LinearConstraint[input LE](x_12,LE,10.55036269310014),\n",
       " docplex.mp.LinearConstraint[input GE](x_12,GE,-1.0696373068996796),\n",
       " docplex.mp.LinearConstraint[input](x_10,EQ,0.009999999999999913)]"
      ]
     },
     "execution_count": 79,
     "metadata": {},
     "output_type": "execute_result"
    }
   ],
   "source": [
    "improved_explanation = testing_model.find_matching_linear_constraints('input')\n",
    "improved_explanation"
   ]
  },
  {
   "attachments": {},
   "cell_type": "markdown",
   "metadata": {},
   "source": [
    "### Pretty Printing"
   ]
  },
  {
   "cell_type": "code",
   "execution_count": 80,
   "metadata": {},
   "outputs": [
    {
     "name": "stdout",
     "output_type": "stream",
     "text": [
      "0.8289746786041754 <= A5 <= 1.7989746786041763\n",
      "2.0100000000000424 <= A6 <= 4.989999999999979\n",
      "0.009999999999999247 <= A8 <= 1.0\n",
      "1.0099999999999991 <= A12 <= 2.9999999999999787\n",
      "-1.0696373068996796 <= A13 <= 10.55036269310014\n",
      "A11 == 0.009999999999999913\n"
     ]
    }
   ],
   "source": [
    "pretty_print_explanation(improved_explanation)"
   ]
  },
  {
   "cell_type": "code",
   "execution_count": 81,
   "metadata": {},
   "outputs": [
    {
     "name": "stdout",
     "output_type": "stream",
     "text": [
      "0.9700000000000009\n",
      "2.9799999999999365\n",
      "0.9900000000000008\n",
      "1.9899999999999796\n",
      "11.61999999999982\n",
      "0\n"
     ]
    }
   ],
   "source": [
    "group = group_by_name(improved_explanation)\n",
    "for feature in group:\n",
    "\tprint(get_interval_distance(group[feature]))"
   ]
  },
  {
   "attachments": {},
   "cell_type": "markdown",
   "metadata": {},
   "source": [
    "### Anchor"
   ]
  },
  {
   "cell_type": "code",
   "execution_count": 82,
   "metadata": {},
   "outputs": [],
   "source": [
    "feature_names = dataframe.columns.to_list()"
   ]
  },
  {
   "cell_type": "code",
   "execution_count": 83,
   "metadata": {},
   "outputs": [],
   "source": [
    "d = utils.load_csv_dataset(\n",
    "\tdata=f'datasets/{dataset_name}/test.csv',\n",
    "\ttarget_idx=-1,\n",
    "\tfeature_names=feature_names,\n",
    "\tskip_first=True\n",
    ")"
   ]
  },
  {
   "cell_type": "code",
   "execution_count": 84,
   "metadata": {},
   "outputs": [],
   "source": [
    "explainer = anchor_tabular.AnchorTabularExplainer(\n",
    "\td.class_names,\n",
    "\td.feature_names,\n",
    "\td.train,\n",
    "\td.categorical_names)"
   ]
  },
  {
   "cell_type": "code",
   "execution_count": 85,
   "metadata": {},
   "outputs": [],
   "source": [
    "predict_fn = lambda x: tf.argmax(keras_model.predict(x)[0]).numpy().reshape(1)"
   ]
  },
  {
   "cell_type": "code",
   "execution_count": 86,
   "metadata": {},
   "outputs": [
    {
     "name": "stderr",
     "output_type": "stream",
     "text": [
      "/tmp/ipykernel_13424/1890216175.py:2: DeprecationWarning: elementwise comparison failed; this will raise an error in the future.\n",
      "  a == data[i]\n"
     ]
    }
   ],
   "source": [
    "for a in d.train:\n",
    "\ta == data[i]"
   ]
  },
  {
   "cell_type": "code",
   "execution_count": 87,
   "metadata": {},
   "outputs": [
    {
     "name": "stdout",
     "output_type": "stream",
     "text": [
      "1/1 [==============================] - 0s 46ms/step\n",
      "1/1 [==============================] - 0s 17ms/step\n",
      "4/4 [==============================] - 0s 1ms/step\n",
      "1/1 [==============================] - 0s 17ms/step\n"
     ]
    }
   ],
   "source": [
    "exp = explainer.explain_instance(data[i, :-1], predict_fn)"
   ]
  },
  {
   "cell_type": "code",
   "execution_count": 88,
   "metadata": {},
   "outputs": [],
   "source": [
    "for name in exp.names():\n",
    "\tprint(name)"
   ]
  },
  {
   "cell_type": "code",
   "execution_count": 89,
   "metadata": {},
   "outputs": [
    {
     "name": "stdout",
     "output_type": "stream",
     "text": [
      "0.8289746786041754 <= A5 <= 1.7989746786041763\n",
      "2.0100000000000424 <= A6 <= 4.989999999999979\n",
      "0.009999999999999247 <= A8 <= 1.0\n",
      "1.0099999999999991 <= A12 <= 2.9999999999999787\n",
      "-1.0696373068996796 <= A13 <= 10.55036269310014\n",
      "A11 == 0.009999999999999913\n"
     ]
    }
   ],
   "source": [
    "pretty_print_explanation(improved_explanation)"
   ]
  },
  {
   "cell_type": "code",
   "execution_count": 90,
   "metadata": {},
   "outputs": [
    {
     "name": "stdout",
     "output_type": "stream",
     "text": [
      "A5 <= 1.7989746786041763\n",
      "A5 >= 0.8289746786041754\n",
      "A6 <= 4.989999999999979\n",
      "A6 >= 2.0100000000000424\n",
      "A8 <= 1.0\n",
      "A8 >= 0.009999999999999247\n",
      "A12 <= 2.9999999999999787\n",
      "A12 >= 1.0099999999999991\n",
      "A13 <= 10.55036269310014\n",
      "A13 >= -1.0696373068996796\n",
      "A11 == 0.009999999999999913\n"
     ]
    }
   ],
   "source": [
    "simple_print_explanation(improved_explanation)"
   ]
  },
  {
   "cell_type": "code",
   "execution_count": 91,
   "metadata": {},
   "outputs": [
    {
     "name": "stdout",
     "output_type": "stream",
     "text": [
      "Precision: 1.000000\n",
      "Coverage:  1.000000\n"
     ]
    }
   ],
   "source": [
    "print('Precision: %f' % exp.precision())\n",
    "print('Coverage:  %f' % exp.coverage())"
   ]
  },
  {
   "cell_type": "code",
   "execution_count": 92,
   "metadata": {},
   "outputs": [
    {
     "data": {
      "text/plain": [
       "12.238704996853032"
      ]
     },
     "execution_count": 92,
     "metadata": {},
     "output_type": "execute_result"
    }
   ],
   "source": [
    "ranges = [get_interval_distance(group[feature]) for feature in group_by_name(improved_explanation)]\n",
    "\n",
    "get_diameter(ranges)"
   ]
  },
  {
   "attachments": {},
   "cell_type": "markdown",
   "metadata": {},
   "source": [
    "## Auto"
   ]
  },
  {
   "cell_type": "code",
   "execution_count": 93,
   "metadata": {},
   "outputs": [],
   "source": [
    "dataset_name = 'auto'\n",
    "\n",
    "training_data = pd.read_csv(f'datasets/{dataset_name}/train.csv')\n",
    "testing_data = pd.read_csv(f'datasets/{dataset_name}/test.csv')\n",
    "\n",
    "dataframe = pd.concat([training_data, testing_data])\n",
    "\n",
    "keras_model = tf.keras.models.load_model(f'datasets/{dataset_name}/model_2layers_{dataset_name}.h5')\n",
    "\n",
    "data = dataframe.to_numpy()\n",
    "n_classes = dataframe['target'].nunique()"
   ]
  },
  {
   "cell_type": "code",
   "execution_count": 94,
   "metadata": {},
   "outputs": [],
   "source": [
    "mp_model, output_bounds = codify_network(keras_model, dataframe, 'fischetti', relax_constraints=False)"
   ]
  },
  {
   "attachments": {},
   "cell_type": "markdown",
   "metadata": {},
   "source": [
    "TODO: Get random `i`"
   ]
  },
  {
   "cell_type": "code",
   "execution_count": 95,
   "metadata": {},
   "outputs": [
    {
     "data": {
      "text/plain": [
       "array([[ 0.69257235, -1.13712399,  1.        ,  0.        ,  1.        ,\n",
       "         3.        ,  1.        ,  0.        , -0.36158536,  0.12798781,\n",
       "        -0.32029258,  0.16903131, -0.47139439,  3.        ,  2.        ,\n",
       "        -0.40054709,  0.        , -0.69390847,  1.27515512, -0.29145957,\n",
       "         1.08118501,  1.3921319 ,  0.26316796,  0.31627024,  1.23921209,\n",
       "         1.        ]])"
      ]
     },
     "execution_count": 95,
     "metadata": {},
     "output_type": "execute_result"
    }
   ],
   "source": [
    "dataframe.sample(n=1).to_numpy()"
   ]
  },
  {
   "cell_type": "code",
   "execution_count": 96,
   "metadata": {},
   "outputs": [
    {
     "name": "stdout",
     "output_type": "stream",
     "text": [
      "i = 13\n",
      "1/1 [==============================] - 0s 49ms/step\n",
      "1/1 [==============================] - 0s 16ms/step\n",
      "Predictions: (ndarray[ndarray[<class 'numpy.float32'>]]) 0.008684409\n",
      "Network output: (<class 'numpy.int64'>) 1\n"
     ]
    }
   ],
   "source": [
    "# i = 138\n",
    "print('i =', i)\n",
    "# network_input = data[i, :-1]\n",
    "network_input = dataframe.drop(['target'], axis=1).sample(n=1).to_numpy()\n",
    "network_input = tf.reshape(tf.constant(network_input), [1, -1])\n",
    "network_output = keras_model.predict(tf.constant(network_input))[0]\n",
    "network_output = tf.argmax(network_output)\n",
    "\n",
    "predictions = keras_model.predict(tf.constant(network_input))[0, 0]\n",
    "\n",
    "print(f'Predictions: (ndarray[ndarray[{type(predictions)}]])', predictions)\n",
    "classification: np.int64 = network_output.numpy()\n",
    "print(f'Network output: ({type(classification)})', classification)"
   ]
  },
  {
   "cell_type": "code",
   "execution_count": 97,
   "metadata": {},
   "outputs": [
    {
     "data": {
      "text/plain": [
       "[docplex.mp.LinearConstraint[input4](x_3,EQ,0),\n",
       " docplex.mp.LinearConstraint[input5](x_4,EQ,1.0),\n",
       " docplex.mp.LinearConstraint[input6](x_5,EQ,3.0),\n",
       " docplex.mp.LinearConstraint[input8](x_7,EQ,0),\n",
       " docplex.mp.LinearConstraint[input9](x_8,EQ,-0.2451733158757535),\n",
       " docplex.mp.LinearConstraint[input10](x_9,EQ,-0.1492182038657561),\n",
       " docplex.mp.LinearConstraint[input11](x_10,EQ,-0.2272672736211136),\n",
       " docplex.mp.LinearConstraint[input12](x_11,EQ,-0.4875903213781468),\n",
       " docplex.mp.LinearConstraint[input13](x_12,EQ,-0.4022693455437625),\n",
       " docplex.mp.LinearConstraint[input14](x_13,EQ,4.0),\n",
       " docplex.mp.LinearConstraint[input15](x_14,EQ,2.0),\n",
       " docplex.mp.LinearConstraint[input17](x_16,EQ,5.0),\n",
       " docplex.mp.LinearConstraint[input18](x_17,EQ,1.1594114349257307),\n",
       " docplex.mp.LinearConstraint[input19](x_18,EQ,-1.8619816112087093),\n",
       " docplex.mp.LinearConstraint[input20](x_19,EQ,-0.2914595708730563),\n",
       " docplex.mp.LinearConstraint[input21](x_20,EQ,1.297475552030508),\n",
       " docplex.mp.LinearConstraint[input22](x_21,EQ,0.07981556244989),\n",
       " docplex.mp.LinearConstraint[input23](x_22,EQ,0.1104095463081212),\n",
       " docplex.mp.LinearConstraint[input24](x_23,EQ,0.1710734497194612),\n",
       " docplex.mp.LinearConstraint[input25](x_24,EQ,1.5324565985900136)]"
      ]
     },
     "execution_count": 97,
     "metadata": {},
     "output_type": "execute_result"
    }
   ],
   "source": [
    "mdl_aux = mp_model.clone()\n",
    "\n",
    "minimal_explanation = get_minimal_explanation(mdl_aux, network_input, network_output, n_classes, 'fischetti', output_bounds)\n",
    "minimal_explanation"
   ]
  },
  {
   "attachments": {},
   "cell_type": "markdown",
   "metadata": {},
   "source": [
    "### Improving the Explanation"
   ]
  },
  {
   "cell_type": "code",
   "execution_count": 98,
   "metadata": {},
   "outputs": [],
   "source": [
    "minimal_model = mdl_aux\n",
    "testing_model = minimal_model.clone()"
   ]
  },
  {
   "cell_type": "code",
   "execution_count": 99,
   "metadata": {},
   "outputs": [
    {
     "data": {
      "text/plain": [
       "[docplex.mp.LinearConstraint[input4](x_3,EQ,0),\n",
       " docplex.mp.LinearConstraint[input5](x_4,EQ,1.0),\n",
       " docplex.mp.LinearConstraint[input6](x_5,EQ,3.0),\n",
       " docplex.mp.LinearConstraint[input8](x_7,EQ,0),\n",
       " docplex.mp.LinearConstraint[input9](x_8,EQ,-0.2451733158757535),\n",
       " docplex.mp.LinearConstraint[input10](x_9,EQ,-0.1492182038657561),\n",
       " docplex.mp.LinearConstraint[input11](x_10,EQ,-0.2272672736211136),\n",
       " docplex.mp.LinearConstraint[input12](x_11,EQ,-0.4875903213781468),\n",
       " docplex.mp.LinearConstraint[input13](x_12,EQ,-0.4022693455437625),\n",
       " docplex.mp.LinearConstraint[input14](x_13,EQ,4.0),\n",
       " docplex.mp.LinearConstraint[input15](x_14,EQ,2.0),\n",
       " docplex.mp.LinearConstraint[input17](x_16,EQ,5.0),\n",
       " docplex.mp.LinearConstraint[input18](x_17,EQ,1.1594114349257307),\n",
       " docplex.mp.LinearConstraint[input19](x_18,EQ,-1.8619816112087093),\n",
       " docplex.mp.LinearConstraint[input20](x_19,EQ,-0.2914595708730563),\n",
       " docplex.mp.LinearConstraint[input21](x_20,EQ,1.297475552030508),\n",
       " docplex.mp.LinearConstraint[input22](x_21,EQ,0.07981556244989),\n",
       " docplex.mp.LinearConstraint[input23](x_22,EQ,0.1104095463081212),\n",
       " docplex.mp.LinearConstraint[input24](x_23,EQ,0.1710734497194612),\n",
       " docplex.mp.LinearConstraint[input25](x_24,EQ,1.5324565985900136)]"
      ]
     },
     "execution_count": 99,
     "metadata": {},
     "output_type": "execute_result"
    }
   ],
   "source": [
    "linear_constraints = testing_model.find_matching_linear_constraints('input')\n",
    "linear_constraints"
   ]
  },
  {
   "cell_type": "code",
   "execution_count": 100,
   "metadata": {},
   "outputs": [],
   "source": [
    "linear_constraints = testing_model.find_matching_linear_constraints('input')\n",
    "\n",
    "for constraint in linear_constraints:\n",
    "\ttesting_model.remove_constraint(constraint)\n",
    "\ttesting_model.add_constraint(constraint.lhs <= constraint.rhs.clone(), 'input LE')\n",
    "\ttesting_model.add_constraint(constraint.lhs >= constraint.rhs.clone(), 'input GE')"
   ]
  },
  {
   "cell_type": "code",
   "execution_count": 101,
   "metadata": {},
   "outputs": [
    {
     "data": {
      "text/plain": [
       "[docplex.mp.LinearConstraint[input LE](x_3,LE,0),\n",
       " docplex.mp.LinearConstraint[input GE](x_3,GE,0),\n",
       " docplex.mp.LinearConstraint[input LE](x_4,LE,1.0),\n",
       " docplex.mp.LinearConstraint[input GE](x_4,GE,1.0),\n",
       " docplex.mp.LinearConstraint[input LE](x_5,LE,3.0),\n",
       " docplex.mp.LinearConstraint[input GE](x_5,GE,3.0),\n",
       " docplex.mp.LinearConstraint[input LE](x_7,LE,0),\n",
       " docplex.mp.LinearConstraint[input GE](x_7,GE,0),\n",
       " docplex.mp.LinearConstraint[input LE](x_8,LE,-0.2451733158757535),\n",
       " docplex.mp.LinearConstraint[input GE](x_8,GE,-0.2451733158757535),\n",
       " docplex.mp.LinearConstraint[input LE](x_9,LE,-0.1492182038657561),\n",
       " docplex.mp.LinearConstraint[input GE](x_9,GE,-0.1492182038657561),\n",
       " docplex.mp.LinearConstraint[input LE](x_10,LE,-0.2272672736211136),\n",
       " docplex.mp.LinearConstraint[input GE](x_10,GE,-0.2272672736211136),\n",
       " docplex.mp.LinearConstraint[input LE](x_11,LE,-0.4875903213781468),\n",
       " docplex.mp.LinearConstraint[input GE](x_11,GE,-0.4875903213781468),\n",
       " docplex.mp.LinearConstraint[input LE](x_12,LE,-0.4022693455437625),\n",
       " docplex.mp.LinearConstraint[input GE](x_12,GE,-0.4022693455437625),\n",
       " docplex.mp.LinearConstraint[input LE](x_13,LE,4.0),\n",
       " docplex.mp.LinearConstraint[input GE](x_13,GE,4.0),\n",
       " docplex.mp.LinearConstraint[input LE](x_14,LE,2.0),\n",
       " docplex.mp.LinearConstraint[input GE](x_14,GE,2.0),\n",
       " docplex.mp.LinearConstraint[input LE](x_16,LE,5.0),\n",
       " docplex.mp.LinearConstraint[input GE](x_16,GE,5.0),\n",
       " docplex.mp.LinearConstraint[input LE](x_17,LE,1.1594114349257307),\n",
       " docplex.mp.LinearConstraint[input GE](x_17,GE,1.1594114349257307),\n",
       " docplex.mp.LinearConstraint[input LE](x_18,LE,-1.8619816112087093),\n",
       " docplex.mp.LinearConstraint[input GE](x_18,GE,-1.8619816112087093),\n",
       " docplex.mp.LinearConstraint[input LE](x_19,LE,-0.2914595708730563),\n",
       " docplex.mp.LinearConstraint[input GE](x_19,GE,-0.2914595708730563),\n",
       " docplex.mp.LinearConstraint[input LE](x_20,LE,1.297475552030508),\n",
       " docplex.mp.LinearConstraint[input GE](x_20,GE,1.297475552030508),\n",
       " docplex.mp.LinearConstraint[input LE](x_21,LE,0.07981556244989),\n",
       " docplex.mp.LinearConstraint[input GE](x_21,GE,0.07981556244989),\n",
       " docplex.mp.LinearConstraint[input LE](x_22,LE,0.1104095463081212),\n",
       " docplex.mp.LinearConstraint[input GE](x_22,GE,0.1104095463081212),\n",
       " docplex.mp.LinearConstraint[input LE](x_23,LE,0.1710734497194612),\n",
       " docplex.mp.LinearConstraint[input GE](x_23,GE,0.1710734497194612),\n",
       " docplex.mp.LinearConstraint[input LE](x_24,LE,1.5324565985900136),\n",
       " docplex.mp.LinearConstraint[input GE](x_24,GE,1.5324565985900136)]"
      ]
     },
     "execution_count": 101,
     "metadata": {},
     "output_type": "execute_result"
    }
   ],
   "source": [
    "linear_constraints = testing_model.find_matching_linear_constraints('input')\n",
    "linear_constraints"
   ]
  },
  {
   "cell_type": "code",
   "execution_count": 102,
   "metadata": {},
   "outputs": [
    {
     "name": "stdout",
     "output_type": "stream",
     "text": [
      "Initial constraint:\t input LE: x_3 <= 0\n",
      "Final constraint:\t input LE: x_3 <= 0.9900000000000007\n",
      "\n",
      "Initial constraint:\t input GE: x_3 >= 0.9900000000000007\n",
      "Final constraint:\t input GE: x_3 >= 0.009999999999999913\n",
      "\n",
      "Initial constraint:\t input LE: x_4 <= 1.0\n",
      "Final constraint:\t input LE: x_4 <= 1.9900000000000009\n",
      "\n",
      "Initial constraint:\t input GE: x_4 >= 1.0\n",
      "Final constraint:\t input GE: x_4 >= 0.009999999999999247\n",
      "\n",
      "Initial constraint:\t input LE: x_5 <= 3.0\n",
      "Final constraint:\t input LE: x_5 <= 3.9999999999999787\n",
      "\n",
      "Initial constraint:\t input GE: x_5 >= 3.0\n",
      "Final constraint:\t input GE: x_5 >= 1.9675233664528946e-14\n",
      "\n",
      "Initial constraint:\t input LE: x_7 <= 0\n",
      "Final constraint:\t input LE: x_7 <= 0.9900000000000007\n",
      "\n",
      "Initial constraint:\t input GE: x_7 >= 0.9900000000000007\n",
      "Final constraint:\t input GE: x_7 >= 0.009999999999999913\n",
      "\n",
      "Initial constraint:\t input LE: x_8 <= -0.2451733158757535\n",
      "Final constraint:\t input LE: x_8 <= 3.694826684124212\n",
      "\n",
      "Initial constraint:\t input GE: x_8 >= -0.2451733158757535\n",
      "Final constraint:\t input GE: x_8 >= -2.005173315875755\n",
      "\n",
      "Initial constraint:\t input LE: x_9 <= -0.1492182038657561\n",
      "Final constraint:\t input LE: x_9 <= 2.7907817961342283\n",
      "\n",
      "Initial constraint:\t input GE: x_9 >= -0.1492182038657561\n",
      "Final constraint:\t input GE: x_9 >= -2.6592182038657435\n",
      "\n",
      "Initial constraint:\t input LE: x_10 <= -0.2272672736211136\n",
      "Final constraint:\t input LE: x_10 <= 2.9727327263788674\n",
      "\n",
      "Initial constraint:\t input GE: x_10 >= -0.2272672736211136\n",
      "Final constraint:\t input GE: x_10 >= -2.597267273621102\n",
      "\n",
      "Initial constraint:\t input LE: x_11 <= -0.4875903213781468\n",
      "Final constraint:\t input LE: x_11 <= 2.502409678621844\n",
      "\n",
      "Initial constraint:\t input GE: x_11 >= -0.4875903213781468\n",
      "Final constraint:\t input GE: x_11 >= -2.4075903213781396\n",
      "\n",
      "Initial constraint:\t input LE: x_12 <= -0.4022693455437625\n",
      "Final constraint:\t input LE: x_12 <= 2.90773065445622\n",
      "\n",
      "Initial constraint:\t input GE: x_12 >= -0.4022693455437625\n",
      "Final constraint:\t input GE: x_12 >= -2.0322693455437633\n",
      "\n",
      "Initial constraint:\t input LE: x_13 <= 4.0\n",
      "Final constraint:\t input LE: x_13 <= 5.999999999999957\n",
      "\n",
      "Initial constraint:\t input GE: x_13 >= 4.0\n",
      "Final constraint:\t input GE: x_13 >= 4.099151573733195e-14\n",
      "\n",
      "Initial constraint:\t input LE: x_14 <= 2.0\n",
      "Final constraint:\t input LE: x_14 <= 5.999999999999915\n",
      "\n",
      "Initial constraint:\t input GE: x_14 >= 2.0\n",
      "Final constraint:\t input GE: x_14 >= 0.00999999999999836\n",
      "\n",
      "Initial constraint:\t input LE: x_16 <= 5.0\n",
      "Final constraint:\t input LE: x_16 <= 6.999999999999957\n",
      "\n",
      "Initial constraint:\t input GE: x_16 >= 5.0\n",
      "Final constraint:\t input GE: x_16 >= 6.230779781013496e-14\n",
      "\n",
      "Initial constraint:\t input LE: x_17 <= 1.1594114349257307\n",
      "Final constraint:\t input LE: x_17 <= 1.9394114349257314\n",
      "\n",
      "Initial constraint:\t input GE: x_17 >= 1.1594114349257307\n",
      "Final constraint:\t input GE: x_17 >= -1.7605885650742714\n",
      "\n",
      "Initial constraint:\t input LE: x_18 <= -1.8619816112087093\n",
      "Final constraint:\t input LE: x_18 <= 1.8280183887912935\n",
      "\n",
      "Initial constraint:\t input GE: x_18 >= -1.8619816112087093\n",
      "Final constraint:\t input GE: x_18 >= -2.191981611208705\n",
      "\n",
      "Initial constraint:\t input LE: x_19 <= -0.2914595708730563\n",
      "Final constraint:\t input LE: x_19 <= 3.2185404291269193\n",
      "\n",
      "Initial constraint:\t input GE: x_19 >= -0.2914595708730563\n",
      "Final constraint:\t input GE: x_19 >= -0.7914595708730567\n",
      "\n",
      "Initial constraint:\t input LE: x_20 <= 1.297475552030508\n",
      "Final constraint:\t input LE: x_20 <= 1.457475552030508\n",
      "\n",
      "Initial constraint:\t input GE: x_20 >= 1.297475552030508\n",
      "Final constraint:\t input GE: x_20 >= -1.7225244479694943\n",
      "\n",
      "Initial constraint:\t input LE: x_21 <= 0.07981556244989\n",
      "Final constraint:\t input LE: x_21 <= 2.1398155624498885\n",
      "\n",
      "Initial constraint:\t input GE: x_21 >= 0.07981556244989\n",
      "Final constraint:\t input GE: x_21 >= -2.160184437550108\n",
      "\n",
      "Initial constraint:\t input LE: x_22 <= 0.1104095463081212\n",
      "Final constraint:\t input LE: x_22 <= 3.620409546308088\n",
      "\n",
      "Initial constraint:\t input GE: x_22 >= 0.1104095463081212\n",
      "Final constraint:\t input GE: x_22 >= -1.8695904536918801\n",
      "\n",
      "Initial constraint:\t input LE: x_23 <= 0.1710734497194612\n",
      "Final constraint:\t input LE: x_23 <= 3.3610734497194334\n",
      "\n",
      "Initial constraint:\t input GE: x_23 >= 0.1710734497194612\n",
      "Final constraint:\t input GE: x_23 >= -2.1489265502805375\n",
      "\n",
      "Initial constraint:\t input LE: x_24 <= 1.5324565985900136\n",
      "Final constraint:\t input LE: x_24 <= 1.6224565985900137\n",
      "\n",
      "Initial constraint:\t input GE: x_24 >= 1.5324565985900136\n",
      "Final constraint:\t input GE: x_24 >= -1.777543401409989\n",
      "\n"
     ]
    }
   ],
   "source": [
    "log_and_improve_explanation(linear_constraints, epsilon=0.01)"
   ]
  },
  {
   "cell_type": "code",
   "execution_count": 103,
   "metadata": {},
   "outputs": [
    {
     "data": {
      "text/plain": [
       "[docplex.mp.LinearConstraint[input LE](x_3,LE,0.009999999999999913),\n",
       " docplex.mp.LinearConstraint[input GE](x_3,GE,0.009999999999999913),\n",
       " docplex.mp.LinearConstraint[input LE](x_4,LE,1.9900000000000009),\n",
       " docplex.mp.LinearConstraint[input GE](x_4,GE,0.009999999999999247),\n",
       " docplex.mp.LinearConstraint[input LE](x_5,LE,3.9999999999999787),\n",
       " docplex.mp.LinearConstraint[input GE](x_5,GE,1.9675233664528946e-14),\n",
       " docplex.mp.LinearConstraint[input LE](x_7,LE,0.009999999999999913),\n",
       " docplex.mp.LinearConstraint[input GE](x_7,GE,0.009999999999999913),\n",
       " docplex.mp.LinearConstraint[input LE](x_8,LE,3.694826684124212),\n",
       " docplex.mp.LinearConstraint[input GE](x_8,GE,-2.005173315875755),\n",
       " docplex.mp.LinearConstraint[input LE](x_9,LE,2.7907817961342283),\n",
       " docplex.mp.LinearConstraint[input GE](x_9,GE,-2.6592182038657435),\n",
       " docplex.mp.LinearConstraint[input LE](x_10,LE,2.9727327263788674),\n",
       " docplex.mp.LinearConstraint[input GE](x_10,GE,-2.597267273621102),\n",
       " docplex.mp.LinearConstraint[input LE](x_11,LE,2.502409678621844),\n",
       " docplex.mp.LinearConstraint[input GE](x_11,GE,-2.4075903213781396),\n",
       " docplex.mp.LinearConstraint[input LE](x_12,LE,2.90773065445622),\n",
       " docplex.mp.LinearConstraint[input GE](x_12,GE,-2.0322693455437633),\n",
       " docplex.mp.LinearConstraint[input LE](x_13,LE,5.999999999999957),\n",
       " docplex.mp.LinearConstraint[input GE](x_13,GE,4.099151573733195e-14),\n",
       " docplex.mp.LinearConstraint[input LE](x_14,LE,5.999999999999915),\n",
       " docplex.mp.LinearConstraint[input GE](x_14,GE,0.00999999999999836),\n",
       " docplex.mp.LinearConstraint[input LE](x_16,LE,6.999999999999957),\n",
       " docplex.mp.LinearConstraint[input GE](x_16,GE,6.230779781013496e-14),\n",
       " docplex.mp.LinearConstraint[input LE](x_17,LE,1.9394114349257314),\n",
       " docplex.mp.LinearConstraint[input GE](x_17,GE,-1.7605885650742714),\n",
       " docplex.mp.LinearConstraint[input LE](x_18,LE,1.8280183887912935),\n",
       " docplex.mp.LinearConstraint[input GE](x_18,GE,-2.191981611208705),\n",
       " docplex.mp.LinearConstraint[input LE](x_19,LE,3.2185404291269193),\n",
       " docplex.mp.LinearConstraint[input GE](x_19,GE,-0.7914595708730567),\n",
       " docplex.mp.LinearConstraint[input LE](x_20,LE,1.457475552030508),\n",
       " docplex.mp.LinearConstraint[input GE](x_20,GE,-1.7225244479694943),\n",
       " docplex.mp.LinearConstraint[input LE](x_21,LE,2.1398155624498885),\n",
       " docplex.mp.LinearConstraint[input GE](x_21,GE,-2.160184437550108),\n",
       " docplex.mp.LinearConstraint[input LE](x_22,LE,3.620409546308088),\n",
       " docplex.mp.LinearConstraint[input GE](x_22,GE,-1.8695904536918801),\n",
       " docplex.mp.LinearConstraint[input LE](x_23,LE,3.3610734497194334),\n",
       " docplex.mp.LinearConstraint[input GE](x_23,GE,-2.1489265502805375),\n",
       " docplex.mp.LinearConstraint[input LE](x_24,LE,1.6224565985900137),\n",
       " docplex.mp.LinearConstraint[input GE](x_24,GE,-1.777543401409989)]"
      ]
     },
     "execution_count": 103,
     "metadata": {},
     "output_type": "execute_result"
    }
   ],
   "source": [
    "linear_constraints = testing_model.find_matching_linear_constraints('input')\n",
    "linear_constraints"
   ]
  },
  {
   "cell_type": "code",
   "execution_count": 104,
   "metadata": {},
   "outputs": [],
   "source": [
    "number_of_inputs = len(dataframe.columns.drop('target'))\n",
    "for i in range(number_of_inputs):\n",
    "\tconstraints_of_x_i = filter(lambda x: x.lhs.name == f'x_{i}', linear_constraints)\n",
    "\tconstraints = [c for c in constraints_of_x_i]\n",
    "\n",
    "\tif len(constraints) == 2:\n",
    "\t\tif constraints[0].rhs.constant == constraints[1].rhs.constant:\n",
    "\t\t\ttesting_model.remove_constraints(constraints)\n",
    "\t\t\ttesting_model.add_constraint(constraints[0].lhs == constraints[0].rhs, 'input')"
   ]
  },
  {
   "cell_type": "code",
   "execution_count": 105,
   "metadata": {},
   "outputs": [
    {
     "data": {
      "text/plain": [
       "[docplex.mp.LinearConstraint[input LE](x_4,LE,1.9900000000000009),\n",
       " docplex.mp.LinearConstraint[input GE](x_4,GE,0.009999999999999247),\n",
       " docplex.mp.LinearConstraint[input LE](x_5,LE,3.9999999999999787),\n",
       " docplex.mp.LinearConstraint[input GE](x_5,GE,1.9675233664528946e-14),\n",
       " docplex.mp.LinearConstraint[input LE](x_8,LE,3.694826684124212),\n",
       " docplex.mp.LinearConstraint[input GE](x_8,GE,-2.005173315875755),\n",
       " docplex.mp.LinearConstraint[input LE](x_9,LE,2.7907817961342283),\n",
       " docplex.mp.LinearConstraint[input GE](x_9,GE,-2.6592182038657435),\n",
       " docplex.mp.LinearConstraint[input LE](x_10,LE,2.9727327263788674),\n",
       " docplex.mp.LinearConstraint[input GE](x_10,GE,-2.597267273621102),\n",
       " docplex.mp.LinearConstraint[input LE](x_11,LE,2.502409678621844),\n",
       " docplex.mp.LinearConstraint[input GE](x_11,GE,-2.4075903213781396),\n",
       " docplex.mp.LinearConstraint[input LE](x_12,LE,2.90773065445622),\n",
       " docplex.mp.LinearConstraint[input GE](x_12,GE,-2.0322693455437633),\n",
       " docplex.mp.LinearConstraint[input LE](x_13,LE,5.999999999999957),\n",
       " docplex.mp.LinearConstraint[input GE](x_13,GE,4.099151573733195e-14),\n",
       " docplex.mp.LinearConstraint[input LE](x_14,LE,5.999999999999915),\n",
       " docplex.mp.LinearConstraint[input GE](x_14,GE,0.00999999999999836),\n",
       " docplex.mp.LinearConstraint[input LE](x_16,LE,6.999999999999957),\n",
       " docplex.mp.LinearConstraint[input GE](x_16,GE,6.230779781013496e-14),\n",
       " docplex.mp.LinearConstraint[input LE](x_17,LE,1.9394114349257314),\n",
       " docplex.mp.LinearConstraint[input GE](x_17,GE,-1.7605885650742714),\n",
       " docplex.mp.LinearConstraint[input LE](x_18,LE,1.8280183887912935),\n",
       " docplex.mp.LinearConstraint[input GE](x_18,GE,-2.191981611208705),\n",
       " docplex.mp.LinearConstraint[input LE](x_19,LE,3.2185404291269193),\n",
       " docplex.mp.LinearConstraint[input GE](x_19,GE,-0.7914595708730567),\n",
       " docplex.mp.LinearConstraint[input LE](x_20,LE,1.457475552030508),\n",
       " docplex.mp.LinearConstraint[input GE](x_20,GE,-1.7225244479694943),\n",
       " docplex.mp.LinearConstraint[input LE](x_21,LE,2.1398155624498885),\n",
       " docplex.mp.LinearConstraint[input GE](x_21,GE,-2.160184437550108),\n",
       " docplex.mp.LinearConstraint[input LE](x_22,LE,3.620409546308088),\n",
       " docplex.mp.LinearConstraint[input GE](x_22,GE,-1.8695904536918801),\n",
       " docplex.mp.LinearConstraint[input LE](x_23,LE,3.3610734497194334),\n",
       " docplex.mp.LinearConstraint[input GE](x_23,GE,-2.1489265502805375),\n",
       " docplex.mp.LinearConstraint[input LE](x_24,LE,1.6224565985900137),\n",
       " docplex.mp.LinearConstraint[input GE](x_24,GE,-1.777543401409989),\n",
       " docplex.mp.LinearConstraint[input](x_3,EQ,0.009999999999999913),\n",
       " docplex.mp.LinearConstraint[input](x_7,EQ,0.009999999999999913)]"
      ]
     },
     "execution_count": 105,
     "metadata": {},
     "output_type": "execute_result"
    }
   ],
   "source": [
    "improved_explanation = testing_model.find_matching_linear_constraints('input')\n",
    "improved_explanation"
   ]
  },
  {
   "attachments": {},
   "cell_type": "markdown",
   "metadata": {},
   "source": [
    "### Pretty Printing"
   ]
  },
  {
   "cell_type": "code",
   "execution_count": 106,
   "metadata": {},
   "outputs": [
    {
     "name": "stdout",
     "output_type": "stream",
     "text": [
      "0.009999999999999247 <= num-of-doors <= 1.9900000000000009\n",
      "1.9675233664528946e-14 <= body-style <= 3.9999999999999787\n",
      "-2.005173315875755 <= wheel-base <= 3.694826684124212\n",
      "-2.6592182038657435 <= length <= 2.7907817961342283\n",
      "-2.597267273621102 <= width <= 2.9727327263788674\n",
      "-2.4075903213781396 <= height <= 2.502409678621844\n",
      "-2.0322693455437633 <= curb-weight <= 2.90773065445622\n",
      "4.099151573733195e-14 <= engine-type <= 5.999999999999957\n",
      "0.00999999999999836 <= num-of-cylinders <= 5.999999999999915\n",
      "6.230779781013496e-14 <= fuel-system <= 6.999999999999957\n",
      "-1.7605885650742714 <= bore <= 1.9394114349257314\n",
      "-2.191981611208705 <= stroke <= 1.8280183887912935\n",
      "-0.7914595708730567 <= compression-ratio <= 3.2185404291269193\n",
      "-1.7225244479694943 <= horsepower <= 1.457475552030508\n",
      "-2.160184437550108 <= peak-rpm <= 2.1398155624498885\n",
      "-1.8695904536918801 <= city-mpg <= 3.620409546308088\n",
      "-2.1489265502805375 <= highway-mpg <= 3.3610734497194334\n",
      "-1.777543401409989 <= price <= 1.6224565985900137\n",
      "aspiration == 0.009999999999999913\n",
      "engine-location == 0.009999999999999913\n"
     ]
    }
   ],
   "source": [
    "pretty_print_explanation(improved_explanation)"
   ]
  },
  {
   "cell_type": "code",
   "execution_count": 107,
   "metadata": {},
   "outputs": [
    {
     "name": "stdout",
     "output_type": "stream",
     "text": [
      "1.9800000000000015\n",
      "3.999999999999959\n",
      "5.699999999999967\n",
      "5.449999999999972\n",
      "5.56999999999997\n",
      "4.909999999999984\n",
      "4.9399999999999835\n",
      "5.9999999999999165\n",
      "5.989999999999917\n",
      "6.999999999999895\n",
      "3.700000000000003\n",
      "4.019999999999999\n",
      "4.009999999999976\n",
      "3.1800000000000024\n",
      "4.299999999999996\n",
      "5.489999999999968\n",
      "5.509999999999971\n",
      "3.4000000000000026\n",
      "0\n",
      "0\n"
     ]
    }
   ],
   "source": [
    "group = group_by_name(improved_explanation)\n",
    "for feature in group:\n",
    "\tprint(get_interval_distance(group[feature]))"
   ]
  },
  {
   "attachments": {},
   "cell_type": "markdown",
   "metadata": {},
   "source": [
    "### Anchor"
   ]
  },
  {
   "cell_type": "code",
   "execution_count": 108,
   "metadata": {},
   "outputs": [],
   "source": [
    "feature_names = dataframe.columns.to_list()"
   ]
  },
  {
   "cell_type": "code",
   "execution_count": 109,
   "metadata": {},
   "outputs": [
    {
     "name": "stdout",
     "output_type": "stream",
     "text": [
      "Precision: 1.000000\n",
      "Coverage:  1.000000\n"
     ]
    }
   ],
   "source": [
    "print('Precision: %f' % exp.precision())\n",
    "print('Coverage:  %f' % exp.coverage())"
   ]
  },
  {
   "cell_type": "code",
   "execution_count": 110,
   "metadata": {},
   "outputs": [
    {
     "data": {
      "text/plain": [
       "20.715276971356044"
      ]
     },
     "execution_count": 110,
     "metadata": {},
     "output_type": "execute_result"
    }
   ],
   "source": [
    "ranges = [get_interval_distance(group[feature]) for feature in group_by_name(improved_explanation)]\n",
    "\n",
    "get_diameter(ranges)"
   ]
  }
 ],
 "metadata": {
  "kernelspec": {
   "display_name": "Python 3",
   "language": "python",
   "name": "python3"
  },
  "language_info": {
   "codemirror_mode": {
    "name": "ipython",
    "version": 3
   },
   "file_extension": ".py",
   "mimetype": "text/x-python",
   "name": "python",
   "nbconvert_exporter": "python",
   "pygments_lexer": "ipython3",
   "version": "3.10.7"
  },
  "orig_nbformat": 4
 },
 "nbformat": 4,
 "nbformat_minor": 2
}
